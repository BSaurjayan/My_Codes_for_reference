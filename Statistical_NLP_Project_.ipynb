{
 "cells": [
  {
   "cell_type": "markdown",
   "metadata": {
    "id": "vlhWv-zW7iR5"
   },
   "source": [
    "# Statistical NLP Project \n"
   ]
  },
  {
   "cell_type": "markdown",
   "metadata": {
    "id": "TY6gpJ9eNAEX"
   },
   "source": [
    "# Part 1"
   ]
  },
  {
   "cell_type": "markdown",
   "metadata": {
    "id": "lEqZs0of7TRW"
   },
   "source": [
    "• DOMAIN: Digital content management\n",
    "\n",
    "\n",
    "• CONTEXT: Classification is probably the most popular task that you would deal with in real life. Text in the form of blogs, posts, articles,\n",
    "etc. is written every second. It is a challenge to predict the information about the writer without knowing about him/her. We are going to\n",
    "create a classifier that predicts multiple features of the author of a given text. We have designed it as a Multi label classification problem.\n",
    "\n",
    "\n",
    "• DATA DESCRIPTION: Over 600,000 posts from more than 19 thousand bloggers The Blog Authorship Corpus consists of the collected\n",
    "posts of 19,320 bloggers gathered from blogger.com in August 2004. The corpus incorporates a total of 681,288 posts and over 140 million\n",
    "words - or approximately 35 posts and 7250 words per person. Each blog is presented as a separate file, the name of which indicates a\n",
    "blogger id# and the blogger’s self-provided gender, age, industry, and astrological sign. (All are labelled for gender and age but for many,\n",
    "industry and/or sign is marked as unknown.) All bloggers included in the corpus fall into one of three age groups:\n",
    "• 8240 \"10s\" blogs (ages 13-17),\n",
    "• 8086 \"20s\" blogs(ages 23-27) and\n",
    "• 2994 \"30s\" blogs (ages 33-47)\n",
    "For each age group, there is an equal number of male and female bloggers.\n",
    "Each blog in the corpus includes at least 200 occurrences of common English words. All formatting has been stripped with two exceptions.\n",
    "Individual posts within a single blogger are separated by the date of the following post and links within a post are denoted by the label url\n",
    "link. Link to dataset: https://www.kaggle.com/rtatman/blog-authorship-corpus\n",
    "\n",
    "\n",
    "• PROJECT OBJECTIVE: The need is to build a NLP classifier which can use input text parameters to determine the label/s of of the blog.\n",
    "Steps and tasks:\n",
    "1. Import and analyse the data set.\n",
    "2. Perform data pre-processing on the data:\n",
    "• Data cleansing by removing unwanted characters, spaces, stop words etc. Convert text to lowercase.\n",
    "• Target/label merger and transformation\n",
    "• Train and test split\n",
    "• Vectorisation, etc.\n",
    "3. Design, train, tune and test the best text classifier.\n",
    "4. Display and explain detail the classification report\n",
    "5. Print the true vs predicted labels for any 5 entries from the dataset."
   ]
  },
  {
   "cell_type": "code",
   "execution_count": 1,
   "metadata": {
    "id": "UVl-AdP_7SD3"
   },
   "outputs": [
    {
     "name": "stderr",
     "output_type": "stream",
     "text": [
      "[nltk_data] Downloading package stopwords to\n",
      "[nltk_data]     C:\\Users\\sbhattacharjee\\AppData\\Roaming\\nltk_data...\n",
      "[nltk_data]   Unzipping corpora\\stopwords.zip.\n"
     ]
    }
   ],
   "source": [
    "# Importing the relevant libraries\n",
    "import pandas as pd\n",
    "import re\n",
    "import numpy as np\n",
    "from nltk.corpus import stopwords\n",
    "import nltk\n",
    "nltk.download('stopwords')\n",
    "from sklearn.feature_extraction.text import CountVectorizer\n",
    "from sklearn.model_selection import train_test_split\n",
    "import warnings\n",
    "from nltk.stem.snowball import SnowballStemmer\n",
    "warnings.filterwarnings('ignore')\n",
    "\n",
    "import seaborn as sns\n",
    "import matplotlib as plt\n",
    "%matplotlib inline\n",
    "import os\n"
   ]
  },
  {
   "cell_type": "code",
   "execution_count": 4,
   "metadata": {
    "colab": {
     "base_uri": "https://localhost:8080/"
    },
    "id": "MdADCXvpHIm2",
    "outputId": "e7ff205d-019c-4b4a-9b89-9035b9efd3d8"
   },
   "outputs": [
    {
     "name": "stdout",
     "output_type": "stream",
     "text": [
      "Drive already mounted at /content/drive/; to attempt to forcibly remount, call drive.mount(\"/content/drive/\", force_remount=True).\n"
     ]
    }
   ],
   "source": [
    "#from google.colab import drive\n",
    "#drive.mount('/content/drive/')"
   ]
  },
  {
   "cell_type": "code",
   "execution_count": 5,
   "metadata": {
    "colab": {
     "base_uri": "https://localhost:8080/",
     "height": 35
    },
    "id": "Lz4EZNP0QBxu",
    "outputId": "d315d26f-92f8-400c-f340-cc4e12adbc38"
   },
   "outputs": [
    {
     "data": {
      "application/vnd.google.colaboratory.intrinsic+json": {
       "type": "string"
      },
      "text/plain": [
       "'/content'"
      ]
     },
     "execution_count": 5,
     "metadata": {
      "tags": []
     },
     "output_type": "execute_result"
    }
   ],
   "source": [
    "pwd"
   ]
  },
  {
   "cell_type": "code",
   "execution_count": 6,
   "metadata": {
    "colab": {
     "base_uri": "https://localhost:8080/"
    },
    "id": "XKC6GGmZTY_V",
    "outputId": "09172c05-33b8-4170-8664-61d2aedcb163"
   },
   "outputs": [
    {
     "name": "stdout",
     "output_type": "stream",
     "text": [
      "Directory changed\n"
     ]
    }
   ],
   "source": [
    "# change the current directory\n",
    "# to specified directory\n",
    "os.chdir(r\"/content/drive/MyDrive/Statistical NLP Project\")\n",
    "  \n",
    "print(\"Directory changed\")"
   ]
  },
  {
   "cell_type": "code",
   "execution_count": 2,
   "metadata": {
    "id": "wOuL3rKdS7pz"
   },
   "outputs": [],
   "source": [
    "blog_df = pd.read_csv('Dataset - blogtext.csv', encoding = 'utf-8')"
   ]
  },
  {
   "cell_type": "code",
   "execution_count": 3,
   "metadata": {
    "colab": {
     "base_uri": "https://localhost:8080/"
    },
    "id": "U2MFX8b0UBDV",
    "outputId": "6183a3e7-363b-4230-df14-fc0b050ffb1b"
   },
   "outputs": [
    {
     "data": {
      "text/plain": [
       "(681284, 7)"
      ]
     },
     "execution_count": 3,
     "metadata": {},
     "output_type": "execute_result"
    }
   ],
   "source": [
    "blog_df.shape"
   ]
  },
  {
   "cell_type": "code",
   "execution_count": 4,
   "metadata": {
    "colab": {
     "base_uri": "https://localhost:8080/",
     "height": 202
    },
    "id": "PlMkTwzJUtUX",
    "outputId": "5e30941b-fa0c-4386-a0b4-fc0421d8adbc"
   },
   "outputs": [
    {
     "data": {
      "text/html": [
       "<div>\n",
       "<style scoped>\n",
       "    .dataframe tbody tr th:only-of-type {\n",
       "        vertical-align: middle;\n",
       "    }\n",
       "\n",
       "    .dataframe tbody tr th {\n",
       "        vertical-align: top;\n",
       "    }\n",
       "\n",
       "    .dataframe thead th {\n",
       "        text-align: right;\n",
       "    }\n",
       "</style>\n",
       "<table border=\"1\" class=\"dataframe\">\n",
       "  <thead>\n",
       "    <tr style=\"text-align: right;\">\n",
       "      <th></th>\n",
       "      <th>id</th>\n",
       "      <th>gender</th>\n",
       "      <th>age</th>\n",
       "      <th>topic</th>\n",
       "      <th>sign</th>\n",
       "      <th>date</th>\n",
       "      <th>text</th>\n",
       "    </tr>\n",
       "  </thead>\n",
       "  <tbody>\n",
       "    <tr>\n",
       "      <th>225264</th>\n",
       "      <td>3691053</td>\n",
       "      <td>male</td>\n",
       "      <td>14</td>\n",
       "      <td>Student</td>\n",
       "      <td>Aquarius</td>\n",
       "      <td>21,June,2004</td>\n",
       "      <td>today...i end my day with a very sa...</td>\n",
       "    </tr>\n",
       "    <tr>\n",
       "      <th>379894</th>\n",
       "      <td>3110819</td>\n",
       "      <td>female</td>\n",
       "      <td>15</td>\n",
       "      <td>Student</td>\n",
       "      <td>Libra</td>\n",
       "      <td>16,June,2004</td>\n",
       "      <td>wow...so many things have happened late...</td>\n",
       "    </tr>\n",
       "    <tr>\n",
       "      <th>248419</th>\n",
       "      <td>941330</td>\n",
       "      <td>male</td>\n",
       "      <td>17</td>\n",
       "      <td>Student</td>\n",
       "      <td>Taurus</td>\n",
       "      <td>19,April,2003</td>\n",
       "      <td>today was cool...went to century 25...</td>\n",
       "    </tr>\n",
       "    <tr>\n",
       "      <th>206436</th>\n",
       "      <td>3455888</td>\n",
       "      <td>female</td>\n",
       "      <td>25</td>\n",
       "      <td>Education</td>\n",
       "      <td>Aries</td>\n",
       "      <td>20,June,2004</td>\n",
       "      <td>well...is it possible to have one of yo...</td>\n",
       "    </tr>\n",
       "    <tr>\n",
       "      <th>28957</th>\n",
       "      <td>597870</td>\n",
       "      <td>female</td>\n",
       "      <td>33</td>\n",
       "      <td>Internet</td>\n",
       "      <td>Taurus</td>\n",
       "      <td>17,July,2003</td>\n",
       "      <td>I really want to do a roadtrip ou...</td>\n",
       "    </tr>\n",
       "  </tbody>\n",
       "</table>\n",
       "</div>"
      ],
      "text/plain": [
       "             id  gender  age      topic      sign           date  \\\n",
       "225264  3691053    male   14    Student  Aquarius   21,June,2004   \n",
       "379894  3110819  female   15    Student     Libra   16,June,2004   \n",
       "248419   941330    male   17    Student    Taurus  19,April,2003   \n",
       "206436  3455888  female   25  Education     Aries   20,June,2004   \n",
       "28957    597870  female   33   Internet    Taurus   17,July,2003   \n",
       "\n",
       "                                                     text  \n",
       "225264             today...i end my day with a very sa...  \n",
       "379894         wow...so many things have happened late...  \n",
       "248419             today was cool...went to century 25...  \n",
       "206436         well...is it possible to have one of yo...  \n",
       "28957                I really want to do a roadtrip ou...  "
      ]
     },
     "execution_count": 4,
     "metadata": {},
     "output_type": "execute_result"
    }
   ],
   "source": [
    "blog_df.sample(5)"
   ]
  },
  {
   "cell_type": "code",
   "execution_count": 5,
   "metadata": {
    "id": "hUkAgNRHVGxU"
   },
   "outputs": [],
   "source": [
    "blog_df_1 = pd.read_csv('Dataset - blogtext.csv', encoding = 'utf-8', nrows=100000)"
   ]
  },
  {
   "cell_type": "code",
   "execution_count": 6,
   "metadata": {
    "colab": {
     "base_uri": "https://localhost:8080/"
    },
    "id": "TODDoQUZcatc",
    "outputId": "b6b05202-f032-4f3c-a284-778b2fdbc925"
   },
   "outputs": [
    {
     "data": {
      "text/plain": [
       "(100000, 7)"
      ]
     },
     "execution_count": 6,
     "metadata": {},
     "output_type": "execute_result"
    }
   ],
   "source": [
    "blog_df_1.shape"
   ]
  },
  {
   "cell_type": "code",
   "execution_count": 7,
   "metadata": {
    "colab": {
     "base_uri": "https://localhost:8080/",
     "height": 202
    },
    "id": "Nm7SJW0kcfC2",
    "outputId": "2681d40f-c788-472d-8c7e-441bf5b5b21a"
   },
   "outputs": [
    {
     "data": {
      "text/html": [
       "<div>\n",
       "<style scoped>\n",
       "    .dataframe tbody tr th:only-of-type {\n",
       "        vertical-align: middle;\n",
       "    }\n",
       "\n",
       "    .dataframe tbody tr th {\n",
       "        vertical-align: top;\n",
       "    }\n",
       "\n",
       "    .dataframe thead th {\n",
       "        text-align: right;\n",
       "    }\n",
       "</style>\n",
       "<table border=\"1\" class=\"dataframe\">\n",
       "  <thead>\n",
       "    <tr style=\"text-align: right;\">\n",
       "      <th></th>\n",
       "      <th>id</th>\n",
       "      <th>gender</th>\n",
       "      <th>age</th>\n",
       "      <th>topic</th>\n",
       "      <th>sign</th>\n",
       "      <th>date</th>\n",
       "      <th>text</th>\n",
       "    </tr>\n",
       "  </thead>\n",
       "  <tbody>\n",
       "    <tr>\n",
       "      <th>0</th>\n",
       "      <td>2059027</td>\n",
       "      <td>male</td>\n",
       "      <td>15</td>\n",
       "      <td>Student</td>\n",
       "      <td>Leo</td>\n",
       "      <td>14,May,2004</td>\n",
       "      <td>Info has been found (+/- 100 pages,...</td>\n",
       "    </tr>\n",
       "    <tr>\n",
       "      <th>1</th>\n",
       "      <td>2059027</td>\n",
       "      <td>male</td>\n",
       "      <td>15</td>\n",
       "      <td>Student</td>\n",
       "      <td>Leo</td>\n",
       "      <td>13,May,2004</td>\n",
       "      <td>These are the team members:   Drewe...</td>\n",
       "    </tr>\n",
       "    <tr>\n",
       "      <th>2</th>\n",
       "      <td>2059027</td>\n",
       "      <td>male</td>\n",
       "      <td>15</td>\n",
       "      <td>Student</td>\n",
       "      <td>Leo</td>\n",
       "      <td>12,May,2004</td>\n",
       "      <td>In het kader van kernfusie op aarde...</td>\n",
       "    </tr>\n",
       "    <tr>\n",
       "      <th>3</th>\n",
       "      <td>2059027</td>\n",
       "      <td>male</td>\n",
       "      <td>15</td>\n",
       "      <td>Student</td>\n",
       "      <td>Leo</td>\n",
       "      <td>12,May,2004</td>\n",
       "      <td>testing!!!  testing!!!</td>\n",
       "    </tr>\n",
       "    <tr>\n",
       "      <th>4</th>\n",
       "      <td>3581210</td>\n",
       "      <td>male</td>\n",
       "      <td>33</td>\n",
       "      <td>InvestmentBanking</td>\n",
       "      <td>Aquarius</td>\n",
       "      <td>11,June,2004</td>\n",
       "      <td>Thanks to Yahoo!'s Toolbar I can ...</td>\n",
       "    </tr>\n",
       "  </tbody>\n",
       "</table>\n",
       "</div>"
      ],
      "text/plain": [
       "        id gender  age              topic      sign          date  \\\n",
       "0  2059027   male   15            Student       Leo   14,May,2004   \n",
       "1  2059027   male   15            Student       Leo   13,May,2004   \n",
       "2  2059027   male   15            Student       Leo   12,May,2004   \n",
       "3  2059027   male   15            Student       Leo   12,May,2004   \n",
       "4  3581210   male   33  InvestmentBanking  Aquarius  11,June,2004   \n",
       "\n",
       "                                                text  \n",
       "0             Info has been found (+/- 100 pages,...  \n",
       "1             These are the team members:   Drewe...  \n",
       "2             In het kader van kernfusie op aarde...  \n",
       "3                   testing!!!  testing!!!            \n",
       "4               Thanks to Yahoo!'s Toolbar I can ...  "
      ]
     },
     "execution_count": 7,
     "metadata": {},
     "output_type": "execute_result"
    }
   ],
   "source": [
    "blog_df_1.head()"
   ]
  },
  {
   "cell_type": "code",
   "execution_count": 8,
   "metadata": {
    "colab": {
     "base_uri": "https://localhost:8080/",
     "height": 202
    },
    "id": "Sr2uuDQucnW3",
    "outputId": "6bd74cbb-60d0-4bb9-a8fc-db6105d6d75d"
   },
   "outputs": [
    {
     "data": {
      "text/html": [
       "<div>\n",
       "<style scoped>\n",
       "    .dataframe tbody tr th:only-of-type {\n",
       "        vertical-align: middle;\n",
       "    }\n",
       "\n",
       "    .dataframe tbody tr th {\n",
       "        vertical-align: top;\n",
       "    }\n",
       "\n",
       "    .dataframe thead th {\n",
       "        text-align: right;\n",
       "    }\n",
       "</style>\n",
       "<table border=\"1\" class=\"dataframe\">\n",
       "  <thead>\n",
       "    <tr style=\"text-align: right;\">\n",
       "      <th></th>\n",
       "      <th>id</th>\n",
       "      <th>gender</th>\n",
       "      <th>age</th>\n",
       "      <th>topic</th>\n",
       "      <th>sign</th>\n",
       "      <th>date</th>\n",
       "      <th>text</th>\n",
       "    </tr>\n",
       "  </thead>\n",
       "  <tbody>\n",
       "    <tr>\n",
       "      <th>99995</th>\n",
       "      <td>1709399</td>\n",
       "      <td>male</td>\n",
       "      <td>27</td>\n",
       "      <td>Student</td>\n",
       "      <td>Virgo</td>\n",
       "      <td>18,September,2003</td>\n",
       "      <td>THE HINDU - 125 YEARS             ...</td>\n",
       "    </tr>\n",
       "    <tr>\n",
       "      <th>99996</th>\n",
       "      <td>1709399</td>\n",
       "      <td>male</td>\n",
       "      <td>27</td>\n",
       "      <td>Student</td>\n",
       "      <td>Virgo</td>\n",
       "      <td>16,September,2003</td>\n",
       "      <td>DILBERT &amp; IIT-ans                 ...</td>\n",
       "    </tr>\n",
       "    <tr>\n",
       "      <th>99997</th>\n",
       "      <td>1709399</td>\n",
       "      <td>male</td>\n",
       "      <td>27</td>\n",
       "      <td>Student</td>\n",
       "      <td>Virgo</td>\n",
       "      <td>12,September,2003</td>\n",
       "      <td>Case Study : How HP won $3 billion...</td>\n",
       "    </tr>\n",
       "    <tr>\n",
       "      <th>99998</th>\n",
       "      <td>1709399</td>\n",
       "      <td>male</td>\n",
       "      <td>27</td>\n",
       "      <td>Student</td>\n",
       "      <td>Virgo</td>\n",
       "      <td>09,September,2003</td>\n",
       "      <td>Championing Chennai               ...</td>\n",
       "    </tr>\n",
       "    <tr>\n",
       "      <th>99999</th>\n",
       "      <td>1709399</td>\n",
       "      <td>male</td>\n",
       "      <td>27</td>\n",
       "      <td>Student</td>\n",
       "      <td>Virgo</td>\n",
       "      <td>05,September,2003</td>\n",
       "      <td>WEEKEND                         It...</td>\n",
       "    </tr>\n",
       "  </tbody>\n",
       "</table>\n",
       "</div>"
      ],
      "text/plain": [
       "            id gender  age    topic   sign               date  \\\n",
       "99995  1709399   male   27  Student  Virgo  18,September,2003   \n",
       "99996  1709399   male   27  Student  Virgo  16,September,2003   \n",
       "99997  1709399   male   27  Student  Virgo  12,September,2003   \n",
       "99998  1709399   male   27  Student  Virgo  09,September,2003   \n",
       "99999  1709399   male   27  Student  Virgo  05,September,2003   \n",
       "\n",
       "                                                    text  \n",
       "99995              THE HINDU - 125 YEARS             ...  \n",
       "99996              DILBERT & IIT-ans                 ...  \n",
       "99997              Case Study : How HP won $3 billion...  \n",
       "99998              Championing Chennai               ...  \n",
       "99999              WEEKEND                         It...  "
      ]
     },
     "execution_count": 8,
     "metadata": {},
     "output_type": "execute_result"
    }
   ],
   "source": [
    "blog_df_1.tail()"
   ]
  },
  {
   "cell_type": "code",
   "execution_count": 9,
   "metadata": {
    "colab": {
     "base_uri": "https://localhost:8080/"
    },
    "id": "99GUVvtgdLuM",
    "outputId": "91c05f77-0b72-4b78-f733-187a3bbfafb5"
   },
   "outputs": [
    {
     "name": "stdout",
     "output_type": "stream",
     "text": [
      "<class 'pandas.core.frame.DataFrame'>\n",
      "RangeIndex: 100000 entries, 0 to 99999\n",
      "Data columns (total 7 columns):\n",
      " #   Column  Non-Null Count   Dtype \n",
      "---  ------  --------------   ----- \n",
      " 0   id      100000 non-null  int64 \n",
      " 1   gender  100000 non-null  object\n",
      " 2   age     100000 non-null  int64 \n",
      " 3   topic   100000 non-null  object\n",
      " 4   sign    100000 non-null  object\n",
      " 5   date    100000 non-null  object\n",
      " 6   text    100000 non-null  object\n",
      "dtypes: int64(2), object(5)\n",
      "memory usage: 5.3+ MB\n"
     ]
    }
   ],
   "source": [
    "blog_df_1.info()"
   ]
  },
  {
   "cell_type": "code",
   "execution_count": 10,
   "metadata": {
    "colab": {
     "base_uri": "https://localhost:8080/"
    },
    "id": "TXDDEZe4dUPb",
    "outputId": "3af844f1-0910-4851-f557-232bce6cdadf"
   },
   "outputs": [
    {
     "data": {
      "text/plain": [
       "male      53358\n",
       "female    46642\n",
       "Name: gender, dtype: int64"
      ]
     },
     "execution_count": 10,
     "metadata": {},
     "output_type": "execute_result"
    }
   ],
   "source": [
    "blog_df_1.gender.value_counts()"
   ]
  },
  {
   "cell_type": "code",
   "execution_count": 11,
   "metadata": {
    "colab": {
     "base_uri": "https://localhost:8080/"
    },
    "id": "GFCUUkFBdab-",
    "outputId": "88229266-42b8-42d5-f956-6e0d3307946d"
   },
   "outputs": [
    {
     "data": {
      "text/plain": [
       "id        0\n",
       "gender    0\n",
       "age       0\n",
       "topic     0\n",
       "sign      0\n",
       "date      0\n",
       "text      0\n",
       "dtype: int64"
      ]
     },
     "execution_count": 11,
     "metadata": {},
     "output_type": "execute_result"
    }
   ],
   "source": [
    "#Check for NA values\n",
    "blog_df_1.isna().sum()"
   ]
  },
  {
   "cell_type": "code",
   "execution_count": 12,
   "metadata": {
    "colab": {
     "base_uri": "https://localhost:8080/",
     "height": 297
    },
    "id": "qedRJ1hZkaSf",
    "outputId": "43e5e0d7-4a69-4060-fb1b-d93bd7b19a05"
   },
   "outputs": [
    {
     "data": {
      "text/plain": [
       "<matplotlib.axes._subplots.AxesSubplot at 0x20401820820>"
      ]
     },
     "execution_count": 12,
     "metadata": {},
     "output_type": "execute_result"
    },
    {
     "data": {
      "image/png": "[encoded data removed]",
      "text/plain": [
       "<Figure size 432x288 with 1 Axes>"
      ]
     },
     "metadata": {
      "needs_background": "light"
     },
     "output_type": "display_data"
    }
   ],
   "source": [
    "sns.countplot(x='gender',data=blog_df_1)"
   ]
  },
  {
   "cell_type": "code",
   "execution_count": 13,
   "metadata": {
    "colab": {
     "base_uri": "https://localhost:8080/",
     "height": 297
    },
    "id": "wihuC_wskhZN",
    "outputId": "de27943a-8fc5-4320-fc9c-996ee435cf8c"
   },
   "outputs": [
    {
     "data": {
      "text/plain": [
       "<matplotlib.axes._subplots.AxesSubplot at 0x20400cdf610>"
      ]
     },
     "execution_count": 13,
     "metadata": {},
     "output_type": "execute_result"
    },
    {
     "data": {
      "image/png": "[encoded data removed]",
      "text/plain": [
       "<Figure size 432x288 with 1 Axes>"
      ]
     },
     "metadata": {
      "needs_background": "light"
     },
     "output_type": "display_data"
    }
   ],
   "source": [
    "sns.countplot(x='sign',data=blog_df_1)"
   ]
  },
  {
   "cell_type": "code",
   "execution_count": 14,
   "metadata": {
    "colab": {
     "base_uri": "https://localhost:8080/"
    },
    "id": "Lf-WMy5Gkq7K",
    "outputId": "812c75d4-ba7a-43ea-84b2-8916bda92c0d"
   },
   "outputs": [
    {
     "data": {
      "text/plain": [
       "id        0\n",
       "gender    0\n",
       "age       0\n",
       "topic     0\n",
       "sign      0\n",
       "date      0\n",
       "text      0\n",
       "dtype: int64"
      ]
     },
     "execution_count": 14,
     "metadata": {},
     "output_type": "execute_result"
    }
   ],
   "source": [
    "#Check for null values\n",
    "blog_df_1.isnull().sum()"
   ]
  },
  {
   "cell_type": "code",
   "execution_count": 15,
   "metadata": {
    "id": "Tnj6MsV4ky3r"
   },
   "outputs": [],
   "source": [
    "# remove unwanted chars other than alphanumeric\n",
    "pattern = \"[^\\w ]\"\n",
    "blog_df_1.text = blog_df_1.text.apply(lambda s : re.sub(pattern,\"\",s))"
   ]
  },
  {
   "cell_type": "code",
   "execution_count": 16,
   "metadata": {
    "colab": {
     "base_uri": "https://localhost:8080/",
     "height": 202
    },
    "id": "43Y1AGjTk-z1",
    "outputId": "be30eb21-e62a-4451-fa68-2846d5534dfb"
   },
   "outputs": [
    {
     "data": {
      "text/html": [
       "<div>\n",
       "<style scoped>\n",
       "    .dataframe tbody tr th:only-of-type {\n",
       "        vertical-align: middle;\n",
       "    }\n",
       "\n",
       "    .dataframe tbody tr th {\n",
       "        vertical-align: top;\n",
       "    }\n",
       "\n",
       "    .dataframe thead th {\n",
       "        text-align: right;\n",
       "    }\n",
       "</style>\n",
       "<table border=\"1\" class=\"dataframe\">\n",
       "  <thead>\n",
       "    <tr style=\"text-align: right;\">\n",
       "      <th></th>\n",
       "      <th>id</th>\n",
       "      <th>gender</th>\n",
       "      <th>age</th>\n",
       "      <th>topic</th>\n",
       "      <th>sign</th>\n",
       "      <th>date</th>\n",
       "      <th>text</th>\n",
       "    </tr>\n",
       "  </thead>\n",
       "  <tbody>\n",
       "    <tr>\n",
       "      <th>0</th>\n",
       "      <td>2059027</td>\n",
       "      <td>male</td>\n",
       "      <td>15</td>\n",
       "      <td>Student</td>\n",
       "      <td>Leo</td>\n",
       "      <td>14,May,2004</td>\n",
       "      <td>Info has been found  100 pages and ...</td>\n",
       "    </tr>\n",
       "    <tr>\n",
       "      <th>1</th>\n",
       "      <td>2059027</td>\n",
       "      <td>male</td>\n",
       "      <td>15</td>\n",
       "      <td>Student</td>\n",
       "      <td>Leo</td>\n",
       "      <td>13,May,2004</td>\n",
       "      <td>These are the team members   Drewes...</td>\n",
       "    </tr>\n",
       "    <tr>\n",
       "      <th>2</th>\n",
       "      <td>2059027</td>\n",
       "      <td>male</td>\n",
       "      <td>15</td>\n",
       "      <td>Student</td>\n",
       "      <td>Leo</td>\n",
       "      <td>12,May,2004</td>\n",
       "      <td>In het kader van kernfusie op aarde...</td>\n",
       "    </tr>\n",
       "    <tr>\n",
       "      <th>3</th>\n",
       "      <td>2059027</td>\n",
       "      <td>male</td>\n",
       "      <td>15</td>\n",
       "      <td>Student</td>\n",
       "      <td>Leo</td>\n",
       "      <td>12,May,2004</td>\n",
       "      <td>testing  testing</td>\n",
       "    </tr>\n",
       "    <tr>\n",
       "      <th>4</th>\n",
       "      <td>3581210</td>\n",
       "      <td>male</td>\n",
       "      <td>33</td>\n",
       "      <td>InvestmentBanking</td>\n",
       "      <td>Aquarius</td>\n",
       "      <td>11,June,2004</td>\n",
       "      <td>Thanks to Yahoos Toolbar I can no...</td>\n",
       "    </tr>\n",
       "  </tbody>\n",
       "</table>\n",
       "</div>"
      ],
      "text/plain": [
       "        id gender  age              topic      sign          date  \\\n",
       "0  2059027   male   15            Student       Leo   14,May,2004   \n",
       "1  2059027   male   15            Student       Leo   13,May,2004   \n",
       "2  2059027   male   15            Student       Leo   12,May,2004   \n",
       "3  2059027   male   15            Student       Leo   12,May,2004   \n",
       "4  3581210   male   33  InvestmentBanking  Aquarius  11,June,2004   \n",
       "\n",
       "                                                text  \n",
       "0             Info has been found  100 pages and ...  \n",
       "1             These are the team members   Drewes...  \n",
       "2             In het kader van kernfusie op aarde...  \n",
       "3                         testing  testing            \n",
       "4               Thanks to Yahoos Toolbar I can no...  "
      ]
     },
     "execution_count": 16,
     "metadata": {},
     "output_type": "execute_result"
    }
   ],
   "source": [
    "blog_df_1.head()"
   ]
  },
  {
   "cell_type": "code",
   "execution_count": 17,
   "metadata": {
    "id": "C8m2MCexlYdz"
   },
   "outputs": [],
   "source": [
    "#Convert the texts to lower case\n",
    "blog_df_1.text = blog_df_1.text.apply(lambda s : s.lower())"
   ]
  },
  {
   "cell_type": "code",
   "execution_count": 18,
   "metadata": {
    "colab": {
     "base_uri": "https://localhost:8080/",
     "height": 202
    },
    "id": "4aUXzR0-ltaM",
    "outputId": "d992d3cf-f21f-4d5e-92cb-65d0573244bf"
   },
   "outputs": [
    {
     "data": {
      "text/html": [
       "<div>\n",
       "<style scoped>\n",
       "    .dataframe tbody tr th:only-of-type {\n",
       "        vertical-align: middle;\n",
       "    }\n",
       "\n",
       "    .dataframe tbody tr th {\n",
       "        vertical-align: top;\n",
       "    }\n",
       "\n",
       "    .dataframe thead th {\n",
       "        text-align: right;\n",
       "    }\n",
       "</style>\n",
       "<table border=\"1\" class=\"dataframe\">\n",
       "  <thead>\n",
       "    <tr style=\"text-align: right;\">\n",
       "      <th></th>\n",
       "      <th>id</th>\n",
       "      <th>gender</th>\n",
       "      <th>age</th>\n",
       "      <th>topic</th>\n",
       "      <th>sign</th>\n",
       "      <th>date</th>\n",
       "      <th>text</th>\n",
       "    </tr>\n",
       "  </thead>\n",
       "  <tbody>\n",
       "    <tr>\n",
       "      <th>0</th>\n",
       "      <td>2059027</td>\n",
       "      <td>male</td>\n",
       "      <td>15</td>\n",
       "      <td>Student</td>\n",
       "      <td>Leo</td>\n",
       "      <td>14,May,2004</td>\n",
       "      <td>info has been found  100 pages and ...</td>\n",
       "    </tr>\n",
       "    <tr>\n",
       "      <th>1</th>\n",
       "      <td>2059027</td>\n",
       "      <td>male</td>\n",
       "      <td>15</td>\n",
       "      <td>Student</td>\n",
       "      <td>Leo</td>\n",
       "      <td>13,May,2004</td>\n",
       "      <td>these are the team members   drewes...</td>\n",
       "    </tr>\n",
       "    <tr>\n",
       "      <th>2</th>\n",
       "      <td>2059027</td>\n",
       "      <td>male</td>\n",
       "      <td>15</td>\n",
       "      <td>Student</td>\n",
       "      <td>Leo</td>\n",
       "      <td>12,May,2004</td>\n",
       "      <td>in het kader van kernfusie op aarde...</td>\n",
       "    </tr>\n",
       "    <tr>\n",
       "      <th>3</th>\n",
       "      <td>2059027</td>\n",
       "      <td>male</td>\n",
       "      <td>15</td>\n",
       "      <td>Student</td>\n",
       "      <td>Leo</td>\n",
       "      <td>12,May,2004</td>\n",
       "      <td>testing  testing</td>\n",
       "    </tr>\n",
       "    <tr>\n",
       "      <th>4</th>\n",
       "      <td>3581210</td>\n",
       "      <td>male</td>\n",
       "      <td>33</td>\n",
       "      <td>InvestmentBanking</td>\n",
       "      <td>Aquarius</td>\n",
       "      <td>11,June,2004</td>\n",
       "      <td>thanks to yahoos toolbar i can no...</td>\n",
       "    </tr>\n",
       "  </tbody>\n",
       "</table>\n",
       "</div>"
      ],
      "text/plain": [
       "        id gender  age              topic      sign          date  \\\n",
       "0  2059027   male   15            Student       Leo   14,May,2004   \n",
       "1  2059027   male   15            Student       Leo   13,May,2004   \n",
       "2  2059027   male   15            Student       Leo   12,May,2004   \n",
       "3  2059027   male   15            Student       Leo   12,May,2004   \n",
       "4  3581210   male   33  InvestmentBanking  Aquarius  11,June,2004   \n",
       "\n",
       "                                                text  \n",
       "0             info has been found  100 pages and ...  \n",
       "1             these are the team members   drewes...  \n",
       "2             in het kader van kernfusie op aarde...  \n",
       "3                         testing  testing            \n",
       "4               thanks to yahoos toolbar i can no...  "
      ]
     },
     "execution_count": 18,
     "metadata": {},
     "output_type": "execute_result"
    }
   ],
   "source": [
    "blog_df_1.head()"
   ]
  },
  {
   "cell_type": "code",
   "execution_count": 19,
   "metadata": {
    "id": "W-2fw0bKlynM"
   },
   "outputs": [],
   "source": [
    "#remove unwanted spaces\n",
    "blog_df_1.text = blog_df_1.text.apply(lambda s: s.strip())"
   ]
  },
  {
   "cell_type": "code",
   "execution_count": 20,
   "metadata": {
    "colab": {
     "base_uri": "https://localhost:8080/",
     "height": 202
    },
    "id": "w-OGGR9OmILl",
    "outputId": "5e8176ad-d4ec-48e2-9f7f-5680923b926f"
   },
   "outputs": [
    {
     "data": {
      "text/html": [
       "<div>\n",
       "<style scoped>\n",
       "    .dataframe tbody tr th:only-of-type {\n",
       "        vertical-align: middle;\n",
       "    }\n",
       "\n",
       "    .dataframe tbody tr th {\n",
       "        vertical-align: top;\n",
       "    }\n",
       "\n",
       "    .dataframe thead th {\n",
       "        text-align: right;\n",
       "    }\n",
       "</style>\n",
       "<table border=\"1\" class=\"dataframe\">\n",
       "  <thead>\n",
       "    <tr style=\"text-align: right;\">\n",
       "      <th></th>\n",
       "      <th>id</th>\n",
       "      <th>gender</th>\n",
       "      <th>age</th>\n",
       "      <th>topic</th>\n",
       "      <th>sign</th>\n",
       "      <th>date</th>\n",
       "      <th>text</th>\n",
       "    </tr>\n",
       "  </thead>\n",
       "  <tbody>\n",
       "    <tr>\n",
       "      <th>0</th>\n",
       "      <td>2059027</td>\n",
       "      <td>male</td>\n",
       "      <td>15</td>\n",
       "      <td>Student</td>\n",
       "      <td>Leo</td>\n",
       "      <td>14,May,2004</td>\n",
       "      <td>info has been found  100 pages and 45 mb of pd...</td>\n",
       "    </tr>\n",
       "    <tr>\n",
       "      <th>1</th>\n",
       "      <td>2059027</td>\n",
       "      <td>male</td>\n",
       "      <td>15</td>\n",
       "      <td>Student</td>\n",
       "      <td>Leo</td>\n",
       "      <td>13,May,2004</td>\n",
       "      <td>these are the team members   drewes van der la...</td>\n",
       "    </tr>\n",
       "    <tr>\n",
       "      <th>2</th>\n",
       "      <td>2059027</td>\n",
       "      <td>male</td>\n",
       "      <td>15</td>\n",
       "      <td>Student</td>\n",
       "      <td>Leo</td>\n",
       "      <td>12,May,2004</td>\n",
       "      <td>in het kader van kernfusie op aarde  maak je e...</td>\n",
       "    </tr>\n",
       "    <tr>\n",
       "      <th>3</th>\n",
       "      <td>2059027</td>\n",
       "      <td>male</td>\n",
       "      <td>15</td>\n",
       "      <td>Student</td>\n",
       "      <td>Leo</td>\n",
       "      <td>12,May,2004</td>\n",
       "      <td>testing  testing</td>\n",
       "    </tr>\n",
       "    <tr>\n",
       "      <th>4</th>\n",
       "      <td>3581210</td>\n",
       "      <td>male</td>\n",
       "      <td>33</td>\n",
       "      <td>InvestmentBanking</td>\n",
       "      <td>Aquarius</td>\n",
       "      <td>11,June,2004</td>\n",
       "      <td>thanks to yahoos toolbar i can now capture the...</td>\n",
       "    </tr>\n",
       "  </tbody>\n",
       "</table>\n",
       "</div>"
      ],
      "text/plain": [
       "        id gender  age              topic      sign          date  \\\n",
       "0  2059027   male   15            Student       Leo   14,May,2004   \n",
       "1  2059027   male   15            Student       Leo   13,May,2004   \n",
       "2  2059027   male   15            Student       Leo   12,May,2004   \n",
       "3  2059027   male   15            Student       Leo   12,May,2004   \n",
       "4  3581210   male   33  InvestmentBanking  Aquarius  11,June,2004   \n",
       "\n",
       "                                                text  \n",
       "0  info has been found  100 pages and 45 mb of pd...  \n",
       "1  these are the team members   drewes van der la...  \n",
       "2  in het kader van kernfusie op aarde  maak je e...  \n",
       "3                                   testing  testing  \n",
       "4  thanks to yahoos toolbar i can now capture the...  "
      ]
     },
     "execution_count": 20,
     "metadata": {},
     "output_type": "execute_result"
    }
   ],
   "source": [
    "blog_df_1.head()"
   ]
  },
  {
   "cell_type": "code",
   "execution_count": 21,
   "metadata": {
    "id": "dDTlrhImmN94"
   },
   "outputs": [],
   "source": [
    "#remove stopwords\n",
    "stopwords=set(stopwords.words('english'))"
   ]
  },
  {
   "cell_type": "code",
   "execution_count": 22,
   "metadata": {
    "id": "Prt_S13FoKDy"
   },
   "outputs": [],
   "source": [
    "blog_df_1.text = blog_df_1.text.apply(lambda t: ' '.join([words for words in t.split() if words not in stopwords]) )"
   ]
  },
  {
   "cell_type": "code",
   "execution_count": 23,
   "metadata": {
    "colab": {
     "base_uri": "https://localhost:8080/",
     "height": 202
    },
    "id": "fLzLbUDnq6Wj",
    "outputId": "2ceb731f-d821-4a2e-fa29-469b83c09b75"
   },
   "outputs": [
    {
     "data": {
      "text/html": [
       "<div>\n",
       "<style scoped>\n",
       "    .dataframe tbody tr th:only-of-type {\n",
       "        vertical-align: middle;\n",
       "    }\n",
       "\n",
       "    .dataframe tbody tr th {\n",
       "        vertical-align: top;\n",
       "    }\n",
       "\n",
       "    .dataframe thead th {\n",
       "        text-align: right;\n",
       "    }\n",
       "</style>\n",
       "<table border=\"1\" class=\"dataframe\">\n",
       "  <thead>\n",
       "    <tr style=\"text-align: right;\">\n",
       "      <th></th>\n",
       "      <th>id</th>\n",
       "      <th>gender</th>\n",
       "      <th>age</th>\n",
       "      <th>topic</th>\n",
       "      <th>sign</th>\n",
       "      <th>date</th>\n",
       "      <th>text</th>\n",
       "    </tr>\n",
       "  </thead>\n",
       "  <tbody>\n",
       "    <tr>\n",
       "      <th>0</th>\n",
       "      <td>2059027</td>\n",
       "      <td>male</td>\n",
       "      <td>15</td>\n",
       "      <td>Student</td>\n",
       "      <td>Leo</td>\n",
       "      <td>14,May,2004</td>\n",
       "      <td>info found 100 pages 45 mb pdf files wait unti...</td>\n",
       "    </tr>\n",
       "    <tr>\n",
       "      <th>1</th>\n",
       "      <td>2059027</td>\n",
       "      <td>male</td>\n",
       "      <td>15</td>\n",
       "      <td>Student</td>\n",
       "      <td>Leo</td>\n",
       "      <td>13,May,2004</td>\n",
       "      <td>team members drewes van der laag urllink mail ...</td>\n",
       "    </tr>\n",
       "    <tr>\n",
       "      <th>2</th>\n",
       "      <td>2059027</td>\n",
       "      <td>male</td>\n",
       "      <td>15</td>\n",
       "      <td>Student</td>\n",
       "      <td>Leo</td>\n",
       "      <td>12,May,2004</td>\n",
       "      <td>het kader van kernfusie op aarde maak je eigen...</td>\n",
       "    </tr>\n",
       "    <tr>\n",
       "      <th>3</th>\n",
       "      <td>2059027</td>\n",
       "      <td>male</td>\n",
       "      <td>15</td>\n",
       "      <td>Student</td>\n",
       "      <td>Leo</td>\n",
       "      <td>12,May,2004</td>\n",
       "      <td>testing testing</td>\n",
       "    </tr>\n",
       "    <tr>\n",
       "      <th>4</th>\n",
       "      <td>3581210</td>\n",
       "      <td>male</td>\n",
       "      <td>33</td>\n",
       "      <td>InvestmentBanking</td>\n",
       "      <td>Aquarius</td>\n",
       "      <td>11,June,2004</td>\n",
       "      <td>thanks yahoos toolbar capture urls popupswhich...</td>\n",
       "    </tr>\n",
       "  </tbody>\n",
       "</table>\n",
       "</div>"
      ],
      "text/plain": [
       "        id gender  age              topic      sign          date  \\\n",
       "0  2059027   male   15            Student       Leo   14,May,2004   \n",
       "1  2059027   male   15            Student       Leo   13,May,2004   \n",
       "2  2059027   male   15            Student       Leo   12,May,2004   \n",
       "3  2059027   male   15            Student       Leo   12,May,2004   \n",
       "4  3581210   male   33  InvestmentBanking  Aquarius  11,June,2004   \n",
       "\n",
       "                                                text  \n",
       "0  info found 100 pages 45 mb pdf files wait unti...  \n",
       "1  team members drewes van der laag urllink mail ...  \n",
       "2  het kader van kernfusie op aarde maak je eigen...  \n",
       "3                                    testing testing  \n",
       "4  thanks yahoos toolbar capture urls popupswhich...  "
      ]
     },
     "execution_count": 23,
     "metadata": {},
     "output_type": "execute_result"
    }
   ],
   "source": [
    "blog_df_1.head()"
   ]
  },
  {
   "cell_type": "code",
   "execution_count": 24,
   "metadata": {
    "id": "90I5vG5PrFdm"
   },
   "outputs": [],
   "source": [
    "# drop id and date columns\n",
    "blog_df_1.drop(labels=['id','date'], axis=1,inplace=True)"
   ]
  },
  {
   "cell_type": "code",
   "execution_count": 25,
   "metadata": {
    "colab": {
     "base_uri": "https://localhost:8080/",
     "height": 202
    },
    "id": "GG_d1KTd3VGE",
    "outputId": "1324b30f-2153-4024-ad39-625d1ce779af"
   },
   "outputs": [
    {
     "data": {
      "text/html": [
       "<div>\n",
       "<style scoped>\n",
       "    .dataframe tbody tr th:only-of-type {\n",
       "        vertical-align: middle;\n",
       "    }\n",
       "\n",
       "    .dataframe tbody tr th {\n",
       "        vertical-align: top;\n",
       "    }\n",
       "\n",
       "    .dataframe thead th {\n",
       "        text-align: right;\n",
       "    }\n",
       "</style>\n",
       "<table border=\"1\" class=\"dataframe\">\n",
       "  <thead>\n",
       "    <tr style=\"text-align: right;\">\n",
       "      <th></th>\n",
       "      <th>gender</th>\n",
       "      <th>age</th>\n",
       "      <th>topic</th>\n",
       "      <th>sign</th>\n",
       "      <th>text</th>\n",
       "    </tr>\n",
       "  </thead>\n",
       "  <tbody>\n",
       "    <tr>\n",
       "      <th>0</th>\n",
       "      <td>male</td>\n",
       "      <td>15</td>\n",
       "      <td>Student</td>\n",
       "      <td>Leo</td>\n",
       "      <td>info found 100 pages 45 mb pdf files wait unti...</td>\n",
       "    </tr>\n",
       "    <tr>\n",
       "      <th>1</th>\n",
       "      <td>male</td>\n",
       "      <td>15</td>\n",
       "      <td>Student</td>\n",
       "      <td>Leo</td>\n",
       "      <td>team members drewes van der laag urllink mail ...</td>\n",
       "    </tr>\n",
       "    <tr>\n",
       "      <th>2</th>\n",
       "      <td>male</td>\n",
       "      <td>15</td>\n",
       "      <td>Student</td>\n",
       "      <td>Leo</td>\n",
       "      <td>het kader van kernfusie op aarde maak je eigen...</td>\n",
       "    </tr>\n",
       "    <tr>\n",
       "      <th>3</th>\n",
       "      <td>male</td>\n",
       "      <td>15</td>\n",
       "      <td>Student</td>\n",
       "      <td>Leo</td>\n",
       "      <td>testing testing</td>\n",
       "    </tr>\n",
       "    <tr>\n",
       "      <th>4</th>\n",
       "      <td>male</td>\n",
       "      <td>33</td>\n",
       "      <td>InvestmentBanking</td>\n",
       "      <td>Aquarius</td>\n",
       "      <td>thanks yahoos toolbar capture urls popupswhich...</td>\n",
       "    </tr>\n",
       "  </tbody>\n",
       "</table>\n",
       "</div>"
      ],
      "text/plain": [
       "  gender  age              topic      sign  \\\n",
       "0   male   15            Student       Leo   \n",
       "1   male   15            Student       Leo   \n",
       "2   male   15            Student       Leo   \n",
       "3   male   15            Student       Leo   \n",
       "4   male   33  InvestmentBanking  Aquarius   \n",
       "\n",
       "                                                text  \n",
       "0  info found 100 pages 45 mb pdf files wait unti...  \n",
       "1  team members drewes van der laag urllink mail ...  \n",
       "2  het kader van kernfusie op aarde maak je eigen...  \n",
       "3                                    testing testing  \n",
       "4  thanks yahoos toolbar capture urls popupswhich...  "
      ]
     },
     "execution_count": 25,
     "metadata": {},
     "output_type": "execute_result"
    }
   ],
   "source": [
    "blog_df_1.head()"
   ]
  },
  {
   "cell_type": "code",
   "execution_count": 26,
   "metadata": {
    "id": "wBTBNkpG3rUY"
   },
   "outputs": [],
   "source": [
    "blog_df_1['labels'] = blog_df_1.apply(lambda col : [col['gender'],col['age'],col['topic'],col['sign']], axis=1)"
   ]
  },
  {
   "cell_type": "code",
   "execution_count": 27,
   "metadata": {
    "colab": {
     "base_uri": "https://localhost:8080/",
     "height": 202
    },
    "id": "6nfhL5hI34S3",
    "outputId": "421a1672-8c2a-4973-c969-4d16dd94210b"
   },
   "outputs": [
    {
     "data": {
      "text/html": [
       "<div>\n",
       "<style scoped>\n",
       "    .dataframe tbody tr th:only-of-type {\n",
       "        vertical-align: middle;\n",
       "    }\n",
       "\n",
       "    .dataframe tbody tr th {\n",
       "        vertical-align: top;\n",
       "    }\n",
       "\n",
       "    .dataframe thead th {\n",
       "        text-align: right;\n",
       "    }\n",
       "</style>\n",
       "<table border=\"1\" class=\"dataframe\">\n",
       "  <thead>\n",
       "    <tr style=\"text-align: right;\">\n",
       "      <th></th>\n",
       "      <th>gender</th>\n",
       "      <th>age</th>\n",
       "      <th>topic</th>\n",
       "      <th>sign</th>\n",
       "      <th>text</th>\n",
       "      <th>labels</th>\n",
       "    </tr>\n",
       "  </thead>\n",
       "  <tbody>\n",
       "    <tr>\n",
       "      <th>0</th>\n",
       "      <td>male</td>\n",
       "      <td>15</td>\n",
       "      <td>Student</td>\n",
       "      <td>Leo</td>\n",
       "      <td>info found 100 pages 45 mb pdf files wait unti...</td>\n",
       "      <td>[male, 15, Student, Leo]</td>\n",
       "    </tr>\n",
       "    <tr>\n",
       "      <th>1</th>\n",
       "      <td>male</td>\n",
       "      <td>15</td>\n",
       "      <td>Student</td>\n",
       "      <td>Leo</td>\n",
       "      <td>team members drewes van der laag urllink mail ...</td>\n",
       "      <td>[male, 15, Student, Leo]</td>\n",
       "    </tr>\n",
       "    <tr>\n",
       "      <th>2</th>\n",
       "      <td>male</td>\n",
       "      <td>15</td>\n",
       "      <td>Student</td>\n",
       "      <td>Leo</td>\n",
       "      <td>het kader van kernfusie op aarde maak je eigen...</td>\n",
       "      <td>[male, 15, Student, Leo]</td>\n",
       "    </tr>\n",
       "    <tr>\n",
       "      <th>3</th>\n",
       "      <td>male</td>\n",
       "      <td>15</td>\n",
       "      <td>Student</td>\n",
       "      <td>Leo</td>\n",
       "      <td>testing testing</td>\n",
       "      <td>[male, 15, Student, Leo]</td>\n",
       "    </tr>\n",
       "    <tr>\n",
       "      <th>4</th>\n",
       "      <td>male</td>\n",
       "      <td>33</td>\n",
       "      <td>InvestmentBanking</td>\n",
       "      <td>Aquarius</td>\n",
       "      <td>thanks yahoos toolbar capture urls popupswhich...</td>\n",
       "      <td>[male, 33, InvestmentBanking, Aquarius]</td>\n",
       "    </tr>\n",
       "  </tbody>\n",
       "</table>\n",
       "</div>"
      ],
      "text/plain": [
       "  gender  age              topic      sign  \\\n",
       "0   male   15            Student       Leo   \n",
       "1   male   15            Student       Leo   \n",
       "2   male   15            Student       Leo   \n",
       "3   male   15            Student       Leo   \n",
       "4   male   33  InvestmentBanking  Aquarius   \n",
       "\n",
       "                                                text  \\\n",
       "0  info found 100 pages 45 mb pdf files wait unti...   \n",
       "1  team members drewes van der laag urllink mail ...   \n",
       "2  het kader van kernfusie op aarde maak je eigen...   \n",
       "3                                    testing testing   \n",
       "4  thanks yahoos toolbar capture urls popupswhich...   \n",
       "\n",
       "                                    labels  \n",
       "0                 [male, 15, Student, Leo]  \n",
       "1                 [male, 15, Student, Leo]  \n",
       "2                 [male, 15, Student, Leo]  \n",
       "3                 [male, 15, Student, Leo]  \n",
       "4  [male, 33, InvestmentBanking, Aquarius]  "
      ]
     },
     "execution_count": 27,
     "metadata": {},
     "output_type": "execute_result"
    }
   ],
   "source": [
    "blog_df_1.head()"
   ]
  },
  {
   "cell_type": "code",
   "execution_count": 28,
   "metadata": {
    "id": "mQGSOCdg47Dk"
   },
   "outputs": [],
   "source": [
    "#drop  gender,age,topic & sign as they are already merged to labels column\n",
    "blog_df_1.drop(columns=['gender','age','topic','sign'], axis=1, inplace=True)"
   ]
  },
  {
   "cell_type": "code",
   "execution_count": 29,
   "metadata": {
    "colab": {
     "base_uri": "https://localhost:8080/",
     "height": 202
    },
    "id": "MUzDGnBg5GUO",
    "outputId": "762a12a2-7e36-446b-9dbf-89e21033cc39"
   },
   "outputs": [
    {
     "data": {
      "text/html": [
       "<div>\n",
       "<style scoped>\n",
       "    .dataframe tbody tr th:only-of-type {\n",
       "        vertical-align: middle;\n",
       "    }\n",
       "\n",
       "    .dataframe tbody tr th {\n",
       "        vertical-align: top;\n",
       "    }\n",
       "\n",
       "    .dataframe thead th {\n",
       "        text-align: right;\n",
       "    }\n",
       "</style>\n",
       "<table border=\"1\" class=\"dataframe\">\n",
       "  <thead>\n",
       "    <tr style=\"text-align: right;\">\n",
       "      <th></th>\n",
       "      <th>text</th>\n",
       "      <th>labels</th>\n",
       "    </tr>\n",
       "  </thead>\n",
       "  <tbody>\n",
       "    <tr>\n",
       "      <th>0</th>\n",
       "      <td>info found 100 pages 45 mb pdf files wait unti...</td>\n",
       "      <td>[male, 15, Student, Leo]</td>\n",
       "    </tr>\n",
       "    <tr>\n",
       "      <th>1</th>\n",
       "      <td>team members drewes van der laag urllink mail ...</td>\n",
       "      <td>[male, 15, Student, Leo]</td>\n",
       "    </tr>\n",
       "    <tr>\n",
       "      <th>2</th>\n",
       "      <td>het kader van kernfusie op aarde maak je eigen...</td>\n",
       "      <td>[male, 15, Student, Leo]</td>\n",
       "    </tr>\n",
       "    <tr>\n",
       "      <th>3</th>\n",
       "      <td>testing testing</td>\n",
       "      <td>[male, 15, Student, Leo]</td>\n",
       "    </tr>\n",
       "    <tr>\n",
       "      <th>4</th>\n",
       "      <td>thanks yahoos toolbar capture urls popupswhich...</td>\n",
       "      <td>[male, 33, InvestmentBanking, Aquarius]</td>\n",
       "    </tr>\n",
       "  </tbody>\n",
       "</table>\n",
       "</div>"
      ],
      "text/plain": [
       "                                                text  \\\n",
       "0  info found 100 pages 45 mb pdf files wait unti...   \n",
       "1  team members drewes van der laag urllink mail ...   \n",
       "2  het kader van kernfusie op aarde maak je eigen...   \n",
       "3                                    testing testing   \n",
       "4  thanks yahoos toolbar capture urls popupswhich...   \n",
       "\n",
       "                                    labels  \n",
       "0                 [male, 15, Student, Leo]  \n",
       "1                 [male, 15, Student, Leo]  \n",
       "2                 [male, 15, Student, Leo]  \n",
       "3                 [male, 15, Student, Leo]  \n",
       "4  [male, 33, InvestmentBanking, Aquarius]  "
      ]
     },
     "execution_count": 29,
     "metadata": {},
     "output_type": "execute_result"
    }
   ],
   "source": [
    "blog_df_1.head()"
   ]
  },
  {
   "cell_type": "markdown",
   "metadata": {
    "id": "ZgLzEA5t5SYS"
   },
   "source": [
    "### Separate features and labels, and split the data into training and testing"
   ]
  },
  {
   "cell_type": "code",
   "execution_count": 30,
   "metadata": {
    "id": "fYzRt6ty5NAx"
   },
   "outputs": [],
   "source": [
    "X= blog_df_1.text\n",
    "y = blog_df_1.labels"
   ]
  },
  {
   "cell_type": "code",
   "execution_count": 31,
   "metadata": {
    "id": "cDZ_Q3OW5hjk"
   },
   "outputs": [],
   "source": [
    "# split X and y into training and testing sets\n",
    "X_train, X_test, y_train, y_test = train_test_split(X,y, random_state=2,test_size = 0.2)"
   ]
  },
  {
   "cell_type": "code",
   "execution_count": 32,
   "metadata": {
    "colab": {
     "base_uri": "https://localhost:8080/"
    },
    "id": "40UoJ5mgQipO",
    "outputId": "4ff14206-2104-4754-c05c-b8396996cf41"
   },
   "outputs": [
    {
     "name": "stdout",
     "output_type": "stream",
     "text": [
      "(80000,)\n",
      "(80000,)\n"
     ]
    }
   ],
   "source": [
    "print(X_train.shape)\n",
    "print(y_train.shape)"
   ]
  },
  {
   "cell_type": "code",
   "execution_count": 33,
   "metadata": {
    "colab": {
     "base_uri": "https://localhost:8080/"
    },
    "id": "AfRj3WQHQnob",
    "outputId": "736bad31-f564-4cdf-90b6-654b192ec3a4"
   },
   "outputs": [
    {
     "name": "stdout",
     "output_type": "stream",
     "text": [
      "(20000,)\n",
      "(20000,)\n"
     ]
    }
   ],
   "source": [
    "print(X_test.shape)\n",
    "print(y_test.shape)"
   ]
  },
  {
   "cell_type": "code",
   "execution_count": 34,
   "metadata": {
    "colab": {
     "base_uri": "https://localhost:8080/"
    },
    "id": "QYgiRjMZQr2E",
    "outputId": "ab0487ad-565e-4cc1-985c-0eb3da7e21b5"
   },
   "outputs": [
    {
     "data": {
      "text/plain": [
       "6448                      bird buries head mashed potatoes\n",
       "50680    ok seriously ruined day like mad right wouldnt...\n",
       "814      astro vs braves got back minute maid stadium d...\n",
       "20354    greetings welcome first ever blog concept behi...\n",
       "49224    walks door room always brightens perfect figur...\n",
       "                               ...                        \n",
       "47661    hey cool jo problem understandable sounds lots...\n",
       "56256    last night went see new harry potter movie hon...\n",
       "92555    urllink instant messages come bearing malice i...\n",
       "36328    srajan gamers sections class 8th entered compu...\n",
       "73345    monqiue got back together wasnt quite dramatic...\n",
       "Name: text, Length: 20000, dtype: object"
      ]
     },
     "execution_count": 34,
     "metadata": {},
     "output_type": "execute_result"
    }
   ],
   "source": [
    "X_test"
   ]
  },
  {
   "cell_type": "markdown",
   "metadata": {
    "id": "JPAd2s1xR4VL"
   },
   "source": [
    "### Vectorize the features\n",
    "\n",
    "     Create a bag of words using Count Vectorizer\n",
    "     Vectorize the train and test set\n",
    "     Get the DTM"
   ]
  },
  {
   "cell_type": "code",
   "execution_count": 35,
   "metadata": {
    "id": "sSCE64HtR2pd"
   },
   "outputs": [],
   "source": [
    "cv = CountVectorizer(ngram_range=(1,2))"
   ]
  },
  {
   "cell_type": "code",
   "execution_count": 36,
   "metadata": {
    "colab": {
     "base_uri": "https://localhost:8080/"
    },
    "id": "WMrAexiZSgtb",
    "outputId": "e6fa8077-823f-4d90-be80-ab505c6775d8"
   },
   "outputs": [
    {
     "data": {
      "text/plain": [
       "CountVectorizer(ngram_range=(1, 2))"
      ]
     },
     "execution_count": 36,
     "metadata": {},
     "output_type": "execute_result"
    }
   ],
   "source": [
    "cv.fit(X_train)"
   ]
  },
  {
   "cell_type": "code",
   "execution_count": 37,
   "metadata": {
    "colab": {
     "base_uri": "https://localhost:8080/"
    },
    "id": "0HiwZcHIS1_c",
    "outputId": "5bb3c4c6-d954-41b6-c4bc-ec56dd9ab558"
   },
   "outputs": [
    {
     "data": {
      "text/plain": [
       "4517090"
      ]
     },
     "execution_count": 37,
     "metadata": {},
     "output_type": "execute_result"
    }
   ],
   "source": [
    "len(cv.vocabulary_)"
   ]
  },
  {
   "cell_type": "code",
   "execution_count": 38,
   "metadata": {
    "colab": {
     "base_uri": "https://localhost:8080/"
    },
    "id": "Eu4NP9d8S84x",
    "outputId": "4a4afd07-2a1f-4179-d83c-6d5f20c6bb24"
   },
   "outputs": [
    {
     "data": {
      "text/plain": [
       "['00',\n",
       " '00 damarcus',\n",
       " '00 damn',\n",
       " '00 doesnt',\n",
       " '00 dont',\n",
       " '00 draw',\n",
       " '00 games',\n",
       " '00 laughed',\n",
       " '00 lil',\n",
       " '00 morning',\n",
       " '00 really',\n",
       " '00 silver',\n",
       " '00 sometimes',\n",
       " '00 soooooo',\n",
       " '00 sq',\n",
       " '00 tcr1',\n",
       " '00 tie',\n",
       " '00 uppercase_75_100',\n",
       " '00 watch',\n",
       " '00 well',\n",
       " '000',\n",
       " '000 address',\n",
       " '000 available',\n",
       " '000 best',\n",
       " '000 calories',\n",
       " '000 cheaper',\n",
       " '000 comptes',\n",
       " '000 could',\n",
       " '000 duration',\n",
       " '000 et',\n",
       " '000 first',\n",
       " '000 ft',\n",
       " '000 fulltime',\n",
       " '000 good',\n",
       " '000 heh',\n",
       " '000 leaving',\n",
       " '000 nothing',\n",
       " '000 odd',\n",
       " '000 people',\n",
       " '000 pounds',\n",
       " '000 rupees',\n",
       " '000 seats',\n",
       " '000 sec',\n",
       " '000 seems',\n",
       " '000 straight',\n",
       " '000 subject',\n",
       " '000 thats',\n",
       " '000 years',\n",
       " '000 yen',\n",
       " '0000',\n",
       " '0000 arent',\n",
       " '0000 blinking',\n",
       " '0000 hopefully',\n",
       " '0000 hrs',\n",
       " '0000 new',\n",
       " '0000 showed',\n",
       " '0000 still',\n",
       " '0000 subject',\n",
       " '000000',\n",
       " '000000 flickrframe',\n",
       " '000000 fontfamily',\n",
       " '000000 zero',\n",
       " '000000000000000000000000167',\n",
       " '000000000000000000000000167 grams',\n",
       " '000000000000000000000section',\n",
       " '000000000000000000000section c09er',\n",
       " '00000000345',\n",
       " '00000000345 secs',\n",
       " '00000001',\n",
       " '00000001 second',\n",
       " '0000001',\n",
       " '0000001 zbaras',\n",
       " '000000flickryourcomment',\n",
       " '000000flickryourcomment flickrframe',\n",
       " '000000this',\n",
       " '000000this certifies',\n",
       " '000001',\n",
       " '000001 maybe',\n",
       " '00000800',\n",
       " '00000800 thats',\n",
       " '00001',\n",
       " '00001 kilowatt',\n",
       " '00001 point',\n",
       " '0001',\n",
       " '0001 chances',\n",
       " '0001 nice',\n",
       " '00011000101',\n",
       " '00011000101 benji',\n",
       " '000264',\n",
       " '000264 31058',\n",
       " '0002hrs',\n",
       " '0002hrs last',\n",
       " '0005',\n",
       " '0005 seconds',\n",
       " '000nbsp',\n",
       " '000nbsp list',\n",
       " '000oooh',\n",
       " '000oooh yes',\n",
       " '001',\n",
       " '001 first',\n",
       " '001 full',\n",
       " '001 javaioioexception',\n",
       " '001 teacher',\n",
       " '001 time',\n",
       " '001 urllink',\n",
       " '0010',\n",
       " '0010 fell',\n",
       " '00101110010101101101001110100100101010001',\n",
       " '00101110010101101101001110100100101010001 exitexe',\n",
       " '00145',\n",
       " '00145 percent',\n",
       " '0015',\n",
       " '0015 15',\n",
       " '001875',\n",
       " '001875 plugging',\n",
       " '002',\n",
       " '002 44th',\n",
       " '002 first',\n",
       " '002 like',\n",
       " '002 middle',\n",
       " '002 sex',\n",
       " '002 thank',\n",
       " '002 urllink',\n",
       " '002020',\n",
       " '002020 gmt',\n",
       " '0020hrs',\n",
       " '0020hrs nowhaasyupxim',\n",
       " '0020hrs woke',\n",
       " '0022',\n",
       " '0022 right',\n",
       " '003',\n",
       " '003 age',\n",
       " '003 im',\n",
       " '003 last',\n",
       " '003 urllink',\n",
       " '0030',\n",
       " '0030 thats',\n",
       " '003200',\n",
       " '003200 cmaj7',\n",
       " '003247',\n",
       " '003247 2004',\n",
       " '004',\n",
       " '004 bday',\n",
       " '004 interest',\n",
       " '004 nicknames',\n",
       " '004 urllink',\n",
       " '0041',\n",
       " '0045',\n",
       " '0045 email',\n",
       " '0045 havent',\n",
       " '0045 thats',\n",
       " '005',\n",
       " '005 euroes',\n",
       " '005 eurosnbsp',\n",
       " '005 gender',\n",
       " '005 height',\n",
       " '005 mph',\n",
       " '005 particular',\n",
       " '005 per',\n",
       " '005 pretty',\n",
       " '005 urllink',\n",
       " '0053',\n",
       " '0053 considering',\n",
       " '006',\n",
       " '006 age',\n",
       " '006 birthday',\n",
       " '006 hair',\n",
       " '006 urllink',\n",
       " '0060521996',\n",
       " '0064',\n",
       " '0064 identified',\n",
       " '0064 shall',\n",
       " '0067',\n",
       " '0067 would',\n",
       " '007',\n",
       " '007 actor',\n",
       " '007 actually',\n",
       " '007 also',\n",
       " '007 arent',\n",
       " '007 birthday',\n",
       " '007 bit',\n",
       " '007 dance',\n",
       " '007 doesnt',\n",
       " '007 dun',\n",
       " '007 eye',\n",
       " '007 financial',\n",
       " '007 game',\n",
       " '007 gets',\n",
       " '007 go',\n",
       " '007 going',\n",
       " '007 height',\n",
       " '007 hope',\n",
       " '007 internet',\n",
       " '007 jennifer',\n",
       " '007 jersey',\n",
       " '007 like',\n",
       " '007 nbsp',\n",
       " '007 needs',\n",
       " '007 never',\n",
       " '007 nightfire',\n",
       " '007 pictures',\n",
       " '007 respect',\n",
       " '007 said',\n",
       " '007 see',\n",
       " '007 serious',\n",
       " '007 sharing',\n",
       " '007 since',\n",
       " '007 start',\n",
       " '007 tell',\n",
       " '007 thing',\n",
       " '007 today',\n",
       " '007 tomorrow',\n",
       " '007 undocumentables',\n",
       " '007 well',\n",
       " '007 would',\n",
       " '007nbsp',\n",
       " '007nbsp agree',\n",
       " '007well',\n",
       " '007well really',\n",
       " '008',\n",
       " '008 hair',\n",
       " '008 height',\n",
       " '008 pt',\n",
       " '008 race',\n",
       " '009',\n",
       " '009 eye',\n",
       " '009 hair',\n",
       " '0097',\n",
       " '0097 compliment',\n",
       " '00h',\n",
       " '00h done',\n",
       " '00h later',\n",
       " '00note__',\n",
       " '00note__ notes',\n",
       " '00s',\n",
       " '00s abc',\n",
       " '00s one',\n",
       " '00s remeber',\n",
       " '00s thats',\n",
       " '00s theres',\n",
       " '00t',\n",
       " '00t damn',\n",
       " '01',\n",
       " '01 02',\n",
       " '01 101102',\n",
       " '01 11',\n",
       " '01 115',\n",
       " '01 1211',\n",
       " '01 191941',\n",
       " '01 194018',\n",
       " '01 194315',\n",
       " '01 195117',\n",
       " '01 195237',\n",
       " '01 195651',\n",
       " '01 195656',\n",
       " '01 1964',\n",
       " '01 1972',\n",
       " '01 2003',\n",
       " '01 2004',\n",
       " '01 203',\n",
       " '01 309',\n",
       " '01 357',\n",
       " '01 across',\n",
       " '01 best',\n",
       " '01 bluetooth',\n",
       " '01 bright',\n",
       " '01 broccoli',\n",
       " '01 butterfly',\n",
       " '01 camaro',\n",
       " '01 cell',\n",
       " '01 chance',\n",
       " '01 charge',\n",
       " '01 clearer',\n",
       " '01 close',\n",
       " '01 colorful',\n",
       " '01 come',\n",
       " '01 cows',\n",
       " '01 disrespectful',\n",
       " '01 four',\n",
       " '01 freedom',\n",
       " '01 friends',\n",
       " '01 goofy',\n",
       " '01 gsm',\n",
       " '01 hammy',\n",
       " '01 hehehe',\n",
       " '01 issues',\n",
       " '01 jewel',\n",
       " '01 keyboard',\n",
       " '01 know',\n",
       " '01 known',\n",
       " '01 leen',\n",
       " '01 lil',\n",
       " '01 means',\n",
       " '01 miles',\n",
       " '01 minds',\n",
       " '01 mp3',\n",
       " '01 nope',\n",
       " '01 pant',\n",
       " '01 pants',\n",
       " '01 percent',\n",
       " '01 person',\n",
       " '01 project',\n",
       " '01 role',\n",
       " '01 seconds',\n",
       " '01 serena',\n",
       " '01 still',\n",
       " '01 story',\n",
       " '01 strike',\n",
       " '01 sundrop',\n",
       " '01 televive',\n",
       " '01 thecurehalo',\n",
       " '01 time',\n",
       " '01 toxic',\n",
       " '01 triggered',\n",
       " '01 underworld',\n",
       " '01 unfortunately',\n",
       " '01 victoria',\n",
       " '01 waiting',\n",
       " '01 watch',\n",
       " '01 whats',\n",
       " '01 我的地盤',\n",
       " '010',\n",
       " '010 10',\n",
       " '010 answer',\n",
       " '010 big',\n",
       " '010 cleveland',\n",
       " '010 custom',\n",
       " '010 customer',\n",
       " '010 eye',\n",
       " '010 flashing',\n",
       " '010 hyundai',\n",
       " '010 national',\n",
       " '010 never',\n",
       " '010 siblings',\n",
       " '010 wear',\n",
       " '0100',\n",
       " '0100 banana',\n",
       " '0100 sleep',\n",
       " '0100 time',\n",
       " '0100 wokeup',\n",
       " '010000oh',\n",
       " '010000oh one',\n",
       " '0100010001101111011100100110101101111000',\n",
       " '0100hrunexpectedlymy',\n",
       " '0100hrunexpectedlymy papa',\n",
       " '0100kmh',\n",
       " '0100kmh 44',\n",
       " '010101',\n",
       " '010101 last',\n",
       " '010101 personal',\n",
       " '01012346',\n",
       " '01012346 course',\n",
       " '0102',\n",
       " '0102 north',\n",
       " '0102 right',\n",
       " '0102 season',\n",
       " '010203',\n",
       " '010203 hehehe',\n",
       " '010504',\n",
       " '010504 may',\n",
       " '01081997',\n",
       " '01081997 01082004its',\n",
       " '01082004',\n",
       " '01082004 apples',\n",
       " '01082004 celebrate',\n",
       " '01082004its',\n",
       " '01082004its 7yrs',\n",
       " '010902',\n",
       " '010902 work',\n",
       " '010haa',\n",
       " '010haa haa',\n",
       " '011',\n",
       " '011 braces',\n",
       " '011 functions',\n",
       " '011 nbsp',\n",
       " '011 points',\n",
       " '011 race',\n",
       " '011 uich',\n",
       " '011 zodiac',\n",
       " '011110am',\n",
       " '011110am mobynathan',\n",
       " '011117am',\n",
       " '011117am mobynathan',\n",
       " '011136am',\n",
       " '011136am jaggonmaster',\n",
       " '011390669882122',\n",
       " '011390669882122 message',\n",
       " '01142004',\n",
       " '01142004 country',\n",
       " '011607',\n",
       " '011607 think',\n",
       " '011615am',\n",
       " '011615am mobynathan',\n",
       " '011646am',\n",
       " '011646am madsh00ter',\n",
       " '011723am',\n",
       " '011723am madsh00ter',\n",
       " '011732am',\n",
       " '011732am jaggonmaster',\n",
       " '011732am mobynathan',\n",
       " '011843am',\n",
       " '011843am madsh00ter',\n",
       " '01187',\n",
       " '01187 _______________________',\n",
       " '011932am',\n",
       " '011932am madsh00ter',\n",
       " '011936am',\n",
       " '011936am madsh00ter',\n",
       " '011937am',\n",
       " '011937am mobynathan',\n",
       " '011939am',\n",
       " '011939am madsh00ter',\n",
       " '011940am',\n",
       " '011940am mobynathan',\n",
       " '012',\n",
       " '012 glasses',\n",
       " '012 hair',\n",
       " '012 many',\n",
       " '01202004',\n",
       " '01202004 larissa',\n",
       " '012022',\n",
       " '012022 2004',\n",
       " '01212004',\n",
       " '01212004 therese',\n",
       " '0125',\n",
       " '0125 pm',\n",
       " '01252004',\n",
       " '01252004 english',\n",
       " '012604',\n",
       " '012604 would',\n",
       " '01299',\n",
       " '01299 402114',\n",
       " '01299 403816',\n",
       " '012xxx',\n",
       " '012xxx xxxx',\n",
       " '013',\n",
       " '013 born',\n",
       " '013 dodid',\n",
       " '013 give',\n",
       " '013 inch',\n",
       " '013 nationality',\n",
       " '0130',\n",
       " '0130 morningnbsp',\n",
       " '0130 watch',\n",
       " '0130 watched',\n",
       " '013227',\n",
       " '013227 gmt',\n",
       " '013528',\n",
       " '013528 2004',\n",
       " '013616',\n",
       " '013616 2004',\n",
       " '013626',\n",
       " '013626 2004',\n",
       " '013936',\n",
       " '013936 2004',\n",
       " '013944',\n",
       " '013944 2004',\n",
       " '014',\n",
       " '014 current',\n",
       " '014 hair',\n",
       " '014 piercings',\n",
       " '0142662566',\n",
       " '0142662566 number',\n",
       " '014357am',\n",
       " '014357am madsh00ter',\n",
       " '014730',\n",
       " '014730 2004',\n",
       " '014757',\n",
       " '014757 2004',\n",
       " '015',\n",
       " '015 born',\n",
       " '015 course',\n",
       " '015 gallon',\n",
       " '015 percent',\n",
       " '015 piercings',\n",
       " '015 trade',\n",
       " '015 zodiac',\n",
       " '01562',\n",
       " '01562 66270',\n",
       " '01562 67148',\n",
       " '01562 820041',\n",
       " '01562nbspnbspnbspnbspnbspnbspnbspnbspnbspnbspnbspnbspnbspnbsp',\n",
       " '01562nbspnbspnbspnbspnbspnbspnbspnbspnbspnbspnbspnbspnbspnbsp pop',\n",
       " '016',\n",
       " '016 current',\n",
       " '016 many',\n",
       " '016 per',\n",
       " '016 tattoos',\n",
       " '017',\n",
       " '017 entire',\n",
       " '017 hour',\n",
       " '017 laungage',\n",
       " '017 tattoos',\n",
       " '017 zodiac',\n",
       " '01752',\n",
       " '01752 224840',\n",
       " '018',\n",
       " '018 bad',\n",
       " '018 felipe',\n",
       " '018 many',\n",
       " '018 todays',\n",
       " '0185nbspnbspnbspnbspnbspnbspnbspnbspnbspnbspnbspnbspnbspnbspnbspnbspnbspnbspnbspnbspnbspnbspnbspnbspnbspnbspnbspnbspnbspnbspnbspnbspnbspnbspnbspnbspnbspnbspnbspnbspnbspnbspnbspnbspnbspnbspnbspnbspnbspnbspnbspnbspnbspnbspnbspnbspnbspnbspnbspnbspnbspnbsp',\n",
       " '0185nbspnbspnbspnbspnbspnbspnbspnbspnbspnbspnbspnbspnbspnbspnbspnbspnbspnbspnbspnbspnbspnbspnbspnbspnbspnbspnbspnbspnbspnbspnbspnbspnbspnbspnbspnbspnbspnbspnbspnbspnbspnbspnbspnbspnbspnbspnbspnbspnbspnbspnbspnbspnbspnbspnbspnbspnbspnbspnbspnbspnbspnbsp margaret',\n",
       " '019',\n",
       " '019 nationality',\n",
       " '019 piercing',\n",
       " '019 time',\n",
       " '01birdjpg',\n",
       " '01birdjpg urllink',\n",
       " '01jill',\n",
       " '01jill sims',\n",
       " '01july04',\n",
       " '01july04 ripped',\n",
       " '01not',\n",
       " '01not bad',\n",
       " '01nov',\n",
       " '01nov 30',\n",
       " '01s',\n",
       " '01s responsibilities',\n",
       " '01sep',\n",
       " '01sep subtracted',\n",
       " '01sep04',\n",
       " '01sep04 remember',\n",
       " '01when',\n",
       " '01when younger',\n",
       " '01x',\n",
       " '01x series',\n",
       " '01x urllink',\n",
       " '02',\n",
       " '02 03',\n",
       " '02 1964',\n",
       " '02 2002',\n",
       " '02 2004',\n",
       " '02 221430',\n",
       " '02 222425',\n",
       " '02 222803',\n",
       " '02 222812',\n",
       " '02 233531',\n",
       " '02 40',\n",
       " '02 86',\n",
       " '02 9550',\n",
       " '02 added',\n",
       " '02 ali',\n",
       " '02 annoying',\n",
       " '02 argue',\n",
       " '02 ashley',\n",
       " '02 august',\n",
       " '02 beyonce',\n",
       " '02 blackwhite',\n",
       " '02 cents',\n",
       " '02 changes',\n",
       " '02 character',\n",
       " '02 cheerwine',\n",
       " '02 could',\n",
       " '02 darryl',\n",
       " '02 day',\n",
       " '02 deadbeat',\n",
       " '02 dont',\n",
       " '02 dork',\n",
       " '02 drop',\n",
       " '02 dumb',\n",
       " '02 encore',\n",
       " '02 faced',\n",
       " '02 fear',\n",
       " '02 florida',\n",
       " '02 franzferdinandtakemeout',\n",
       " '02 friends',\n",
       " '02 geography',\n",
       " '02 group',\n",
       " '02 hits',\n",
       " '02 hope',\n",
       " '02 im',\n",
       " '02 iraq',\n",
       " '02 keyboard',\n",
       " '02 kg',\n",
       " '02 lott',\n",
       " '02 lucky',\n",
       " '02 magic',\n",
       " '02 mama',\n",
       " '02 may',\n",
       " '02 maybe',\n",
       " '02 meet',\n",
       " '02 messages',\n",
       " '02 miles',\n",
       " '02 movies',\n",
       " '02 nbspnbspnbspnbspnbspnbspnbspnbsp',\n",
       " '02 nice',\n",
       " '02 nissan',\n",
       " '02 one',\n",
       " '02 original',\n",
       " '02 personal',\n",
       " '02 pet',\n",
       " '02 pics',\n",
       " '02 plenty',\n",
       " '02 points',\n",
       " '02 rascal',\n",
       " '02 released',\n",
       " '02 republicans',\n",
       " '02 right',\n",
       " '02 rower',\n",
       " '02 season',\n",
       " '02 seemed',\n",
       " '02 shorts',\n",
       " '02 show',\n",
       " '02 simpsons',\n",
       " '02 statement',\n",
       " '02 still',\n",
       " '02 think',\n",
       " '02 today',\n",
       " '02 trb',\n",
       " '02 trips',\n",
       " '02 twister',\n",
       " '02 weakest',\n",
       " '02 weve',\n",
       " '02 wilding',\n",
       " '02 win',\n",
       " '02 windup',\n",
       " '02 七里香',\n",
       " '020',\n",
       " '020 bad',\n",
       " '020 could',\n",
       " '020 even',\n",
       " '020 piercing',\n",
       " '020 still',\n",
       " '0200',\n",
       " '0200 finally',\n",
       " '0200 hrs',\n",
       " '0200 pm',\n",
       " '0200 watching',\n",
       " '0200 went',\n",
       " '020031',\n",
       " '020031 pm',\n",
       " '0200hr',\n",
       " '0200hr 22',\n",
       " '0200hrtido',\n",
       " '0200hrtido dulu',\n",
       " '020101',\n",
       " '020101 clubs',\n",
       " '0203',\n",
       " '0203 financial',\n",
       " '0203 getting',\n",
       " '0203 inland',\n",
       " '0203 transfer',\n",
       " '020304',\n",
       " '020304 115423',\n",
       " '020604',\n",
       " '020604 went',\n",
       " '021',\n",
       " '021 drop',\n",
       " '021 ill',\n",
       " '021 piercings',\n",
       " '021 tattoos',\n",
       " '021 totally',\n",
       " '02109',\n",
       " '02109 number',\n",
       " '02115',\n",
       " '02118',\n",
       " '02118 gmodestpartnersorg',\n",
       " '021320',\n",
       " '021320 link',\n",
       " '021426',\n",
       " '021426 homepage',\n",
       " '0215',\n",
       " '0215 gmt',\n",
       " '021535',\n",
       " '021535 2004',\n",
       " '02162003',\n",
       " '02162003 essential',\n",
       " '0217',\n",
       " '0217 pm',\n",
       " '0218',\n",
       " '0218 pm',\n",
       " '02182004',\n",
       " '02182004 urllink',\n",
       " '0219',\n",
       " '0219 pm',\n",
       " '022',\n",
       " '022 favorite',\n",
       " '022 looks',\n",
       " '022 piercings',\n",
       " '022 µu',\n",
       " '0220',\n",
       " '0220 pm',\n",
       " '0221',\n",
       " '0221 pm',\n",
       " '0222',\n",
       " '0222 pm',\n",
       " '022227',\n",
       " '022227 2004',\n",
       " '0223',\n",
       " '0223 pm',\n",
       " '02232004',\n",
       " '0224',\n",
       " '0224 pm',\n",
       " '0225',\n",
       " '0225 pm',\n",
       " '0225 reverse',\n",
       " '02252004',\n",
       " '02252004 nbsp',\n",
       " '0226',\n",
       " '0226 pm',\n",
       " '022600',\n",
       " '022600 2004',\n",
       " '0227',\n",
       " '0227 pm',\n",
       " '0228',\n",
       " '0228 pm',\n",
       " '0229',\n",
       " '0229 pm',\n",
       " '023',\n",
       " '023 least',\n",
       " '023 released',\n",
       " '023 tattoos',\n",
       " '023 today',\n",
       " '0230',\n",
       " '0230 oni',\n",
       " '0230 pm',\n",
       " '0230 reminded',\n",
       " '0231',\n",
       " '0231 pm',\n",
       " '0232',\n",
       " '0232 pm',\n",
       " '0233',\n",
       " '0233 pm',\n",
       " '0234',\n",
       " '0234 pm',\n",
       " '0235',\n",
       " '0235 pm',\n",
       " '0236',\n",
       " '0236 pm',\n",
       " '0237',\n",
       " '0237 ian',\n",
       " '0237 pm',\n",
       " '023732',\n",
       " '023732 pm',\n",
       " '023746',\n",
       " '023746 pm',\n",
       " '023755',\n",
       " '023755 pm',\n",
       " '0238',\n",
       " '0238 pm',\n",
       " '023800',\n",
       " '023800 pm',\n",
       " '023801',\n",
       " '023801 pm',\n",
       " '023808',\n",
       " '023808 pm',\n",
       " '023847',\n",
       " '023847 pm',\n",
       " '023939',\n",
       " '023939 pm',\n",
       " '023946',\n",
       " '023946 pm',\n",
       " '023947',\n",
       " '023947 pm',\n",
       " '023f5unthat',\n",
       " '023f5unthat sarah',\n",
       " '024',\n",
       " '024 favorite',\n",
       " '024 tattoos',\n",
       " '024 todays',\n",
       " '0240',\n",
       " '0240 pm',\n",
       " '024009',\n",
       " '024009 pm',\n",
       " '0241',\n",
       " '0241 pm',\n",
       " '024201',\n",
       " '024201 pm',\n",
       " '0243',\n",
       " '0243 pm',\n",
       " '0244',\n",
       " '0244 pm',\n",
       " '0245',\n",
       " '0245 pm',\n",
       " '024528am',\n",
       " '024528am jaggonmaster',\n",
       " '0246',\n",
       " '0246 pm',\n",
       " '0247',\n",
       " '0247 pm',\n",
       " '024716',\n",
       " '024716 pm',\n",
       " '024723',\n",
       " '024723 pm',\n",
       " '0248',\n",
       " '0248 pm',\n",
       " '0249',\n",
       " '024908',\n",
       " '024908 pm',\n",
       " '025',\n",
       " '025 least',\n",
       " '025 liability',\n",
       " '025 seconds',\n",
       " '025 time',\n",
       " '025 todays',\n",
       " '0250',\n",
       " '0250 pm',\n",
       " '025050',\n",
       " '025050 blind',\n",
       " '0250h',\n",
       " '0250h ive',\n",
       " '0251',\n",
       " '0251 pm',\n",
       " '0252',\n",
       " '0252 pm',\n",
       " '0253',\n",
       " '0253 pm',\n",
       " '0254',\n",
       " '0254 pm',\n",
       " '0255',\n",
       " '0255 pm',\n",
       " '025613',\n",
       " '025613 pm',\n",
       " '0257',\n",
       " '0257 pm',\n",
       " '0258',\n",
       " '0258 pm',\n",
       " '025805',\n",
       " '025805 2004',\n",
       " '025808',\n",
       " '025808 2004',\n",
       " '026',\n",
       " '026 favorite',\n",
       " '026 main',\n",
       " '026 percent',\n",
       " '026 ready',\n",
       " '026 time',\n",
       " '026 today',\n",
       " '026903116',\n",
       " '026903116 nbsp',\n",
       " '026hr',\n",
       " '026hr raise',\n",
       " '027',\n",
       " '027 least',\n",
       " '027 mothers',\n",
       " '027 ready',\n",
       " '027604303',\n",
       " '027604303 ref',\n",
       " '027623577',\n",
       " '027623577 027604303',\n",
       " '028',\n",
       " '028 dodid',\n",
       " '028 fathers',\n",
       " '028 mothers',\n",
       " '028 plus',\n",
       " '029',\n",
       " '029 brothers',\n",
       " '029 fathers',\n",
       " '029 play',\n",
       " '029jpg',\n",
       " '029jpg urllink',\n",
       " '02haizmissed',\n",
       " '02haizmissed class',\n",
       " '02ip',\n",
       " '02ip 6750',\n",
       " '02july04',\n",
       " '02july04 week',\n",
       " '03',\n",
       " '03 013936',\n",
       " '03 013944',\n",
       " '03 02haizmissed',\n",
       " '03 034320',\n",
       " '03 034936',\n",
       " '03 035102',\n",
       " '03 035622',\n",
       " '03 04',\n",
       " '03 040748',\n",
       " '03 040751',\n",
       " '03 165336',\n",
       " '03 172515',\n",
       " '03 174546',\n",
       " '03 1972',\n",
       " '03 2003',\n",
       " '03 2004',\n",
       " '03 232612',\n",
       " '03 233534',\n",
       " '03 233628',\n",
       " '03 alan',\n",
       " '03 always',\n",
       " '03 ask',\n",
       " '03 aware',\n",
       " '03 back',\n",
       " '03 believe',\n",
       " '03 broke',\n",
       " '03 capitol',\n",
       " '03 could',\n",
       " '03 csi',\n",
       " '03 cuz',\n",
       " '03 deadbeat',\n",
       " '03 encoded',\n",
       " '03 evanescene',\n",
       " '03 ever',\n",
       " '03 fiesta',\n",
       " '03 focus',\n",
       " '03 freaky',\n",
       " '03 freds',\n",
       " '03 fucked',\n",
       " '03 gd',\n",
       " '03 gold',\n",
       " '03 greatest',\n",
       " '03 hair',\n",
       " '03 hate',\n",
       " '03 im',\n",
       " '03 jaime',\n",
       " '03 january',\n",
       " '03 jessica',\n",
       " '03 kameron',\n",
       " '03 kfc',\n",
       " '03 kg',\n",
       " '03 knows',\n",
       " '03 like',\n",
       " '03 lives',\n",
       " '03 love',\n",
       " '03 marshmallow',\n",
       " '03 mcdonalds',\n",
       " '03 meet',\n",
       " '03 met',\n",
       " '03 much',\n",
       " '03 myherour',\n",
       " '03 never',\n",
       " '03 new',\n",
       " '03 pineapple',\n",
       " '03 popular',\n",
       " '03 randomness',\n",
       " '03 rem',\n",
       " '03 remove',\n",
       " '03 school',\n",
       " '03 seem',\n",
       " '03 seemed',\n",
       " '03 since',\n",
       " '03 start',\n",
       " '03 state',\n",
       " '03 suppsose',\n",
       " '03 thefrenchkicksclosetomodern',\n",
       " '03 thought',\n",
       " '03 time',\n",
       " '03 timetable',\n",
       " '03 tokyo',\n",
       " '03 untitled',\n",
       " '03 videos',\n",
       " '03 water',\n",
       " '03 way',\n",
       " '03 whats',\n",
       " '03 would',\n",
       " '03 藉口',\n",
       " '030',\n",
       " '030 arewere',\n",
       " '030 sisters',\n",
       " '030 stepparents',\n",
       " '030 total',\n",
       " '0300',\n",
       " '0300 go',\n",
       " '0300 someone',\n",
       " '0300 things',\n",
       " '0300hrapa',\n",
       " '0300hrapa lagi',\n",
       " '0300hrs',\n",
       " '0300hrs local',\n",
       " '030101',\n",
       " '030101 restaurants',\n",
       " '030208',\n",
       " '030208 2004',\n",
       " '030214',\n",
       " '030214 2004',\n",
       " '0303',\n",
       " '0303 afternoon',\n",
       " '0303 pass',\n",
       " '030303',\n",
       " '030303 gods',\n",
       " '030303 world',\n",
       " '030303 wouldnt',\n",
       " '0303030303',\n",
       " '0303030303 wont',\n",
       " '0304',\n",
       " '0304 hat',\n",
       " '0304 identity',\n",
       " '0304 retire',\n",
       " '030503',\n",
       " '030503 sat',\n",
       " '030504',\n",
       " '030504 whats',\n",
       " '030804',\n",
       " '030804 original',\n",
       " '030952',\n",
       " '030952 hey',\n",
       " '031',\n",
       " '031 brotherss',\n",
       " '031 favorite',\n",
       " '031 humiliating',\n",
       " '0312002',\n",
       " '0312002 limited',\n",
       " '0315',\n",
       " '0315 aogatססn饴rjifcbqӹbӧaҥ',\n",
       " '0315 somewhere',\n",
       " '03152004',\n",
       " '03152004 urllink',\n",
       " '0318',\n",
       " '0318 hrs',\n",
       " '03182004',\n",
       " ...]"
      ]
     },
     "execution_count": 38,
     "metadata": {},
     "output_type": "execute_result"
    }
   ],
   "source": [
    "cv.get_feature_names()"
   ]
  },
  {
   "cell_type": "code",
   "execution_count": 39,
   "metadata": {
    "id": "y3qhyc0gUMIm"
   },
   "outputs": [],
   "source": [
    "X_train_ct = cv.transform(X_train)"
   ]
  },
  {
   "cell_type": "code",
   "execution_count": 40,
   "metadata": {
    "colab": {
     "base_uri": "https://localhost:8080/"
    },
    "id": "eReY4a3xUysU",
    "outputId": "01168e3f-61a6-4ca0-e85a-9e1937beb314"
   },
   "outputs": [
    {
     "data": {
      "text/plain": [
       "scipy.sparse.csr.csr_matrix"
      ]
     },
     "execution_count": 40,
     "metadata": {},
     "output_type": "execute_result"
    }
   ],
   "source": [
    "type(X_train_ct)"
   ]
  },
  {
   "cell_type": "code",
   "execution_count": 41,
   "metadata": {
    "colab": {
     "base_uri": "https://localhost:8080/"
    },
    "id": "mfXooj4wU2KS",
    "outputId": "8c5a6386-b7a1-4100-fe40-5c303a18a084"
   },
   "outputs": [
    {
     "data": {
      "text/plain": [
       "<80000x4517090 sparse matrix of type '<class 'numpy.int64'>'\n",
       "\twith 13894625 stored elements in Compressed Sparse Row format>"
      ]
     },
     "execution_count": 41,
     "metadata": {},
     "output_type": "execute_result"
    }
   ],
   "source": [
    "X_train_ct"
   ]
  },
  {
   "cell_type": "code",
   "execution_count": 42,
   "metadata": {
    "colab": {
     "base_uri": "https://localhost:8080/"
    },
    "id": "AMWfCtFzU652",
    "outputId": "bebfccc0-f24a-41d5-ae1f-3e435681fb4c"
   },
   "outputs": [
    {
     "data": {
      "text/plain": [
       "<1x4517090 sparse matrix of type '<class 'numpy.int64'>'\n",
       "\twith 483 stored elements in Compressed Sparse Row format>"
      ]
     },
     "execution_count": 42,
     "metadata": {},
     "output_type": "execute_result"
    }
   ],
   "source": [
    "X_train_ct[0]"
   ]
  },
  {
   "cell_type": "code",
   "execution_count": 43,
   "metadata": {
    "id": "VcPWPwwuVA5f"
   },
   "outputs": [],
   "source": [
    "X_test_ct = cv.transform(X_test)"
   ]
  },
  {
   "cell_type": "code",
   "execution_count": 44,
   "metadata": {
    "colab": {
     "base_uri": "https://localhost:8080/"
    },
    "id": "tY422kXwVKJv",
    "outputId": "0f2156f2-fc58-441d-9566-9f38038f1ca0"
   },
   "outputs": [
    {
     "data": {
      "text/plain": [
       "<20000x4517090 sparse matrix of type '<class 'numpy.int64'>'\n",
       "\twith 2633973 stored elements in Compressed Sparse Row format>"
      ]
     },
     "execution_count": 44,
     "metadata": {},
     "output_type": "execute_result"
    }
   ],
   "source": [
    "X_test_ct"
   ]
  },
  {
   "cell_type": "code",
   "execution_count": 45,
   "metadata": {
    "colab": {
     "base_uri": "https://localhost:8080/"
    },
    "id": "Ni9J5hoYVrFA",
    "outputId": "e3d52e04-3655-47c0-f468-ef48dcf9d362"
   },
   "outputs": [
    {
     "data": {
      "text/plain": [
       "<1x4517090 sparse matrix of type '<class 'numpy.int64'>'\n",
       "\twith 7 stored elements in Compressed Sparse Row format>"
      ]
     },
     "execution_count": 45,
     "metadata": {},
     "output_type": "execute_result"
    }
   ],
   "source": [
    "X_test_ct[0]"
   ]
  },
  {
   "cell_type": "code",
   "execution_count": 46,
   "metadata": {
    "colab": {
     "base_uri": "https://localhost:8080/"
    },
    "id": "hFdWub9IVvkw",
    "outputId": "b596e289-a6ff-43c5-dc2f-fc0fabcb80a0"
   },
   "outputs": [
    {
     "data": {
      "text/plain": [
       "['00',\n",
       " '00 damarcus',\n",
       " '00 damn',\n",
       " '00 doesnt',\n",
       " '00 dont',\n",
       " '00 draw',\n",
       " '00 games',\n",
       " '00 laughed',\n",
       " '00 lil',\n",
       " '00 morning']"
      ]
     },
     "execution_count": 46,
     "metadata": {},
     "output_type": "execute_result"
    }
   ],
   "source": [
    "cv.get_feature_names()[:10]"
   ]
  },
  {
   "cell_type": "code",
   "execution_count": 47,
   "metadata": {
    "colab": {
     "base_uri": "https://localhost:8080/"
    },
    "id": "AF34gPyGV4W4",
    "outputId": "ec44a2b8-8e5b-48dc-b321-a79f1a0b591c"
   },
   "outputs": [
    {
     "data": {
      "text/plain": [
       "{'male': 53358,\n",
       " '15': 1,\n",
       " 'Student': 22122,\n",
       " 'Leo': 8230,\n",
       " '33': 1,\n",
       " 'InvestmentBanking': 244,\n",
       " 'Aquarius': 9050,\n",
       " 'female': 46642,\n",
       " '14': 1,\n",
       " 'indUnk': 33097,\n",
       " 'Aries': 10637,\n",
       " '25': 1,\n",
       " 'Capricorn': 8723,\n",
       " '17': 1,\n",
       " 'Gemini': 9225,\n",
       " '23': 1,\n",
       " 'Non-Profit': 1326,\n",
       " 'Cancer': 9253,\n",
       " 'Banking': 354,\n",
       " '37': 1,\n",
       " 'Sagittarius': 7366,\n",
       " '26': 1,\n",
       " '24': 1,\n",
       " 'Scorpio': 7049,\n",
       " '27': 1,\n",
       " 'Education': 5553,\n",
       " '45': 1,\n",
       " 'Engineering': 2332,\n",
       " 'Libra': 7250,\n",
       " 'Science': 1090,\n",
       " '34': 1,\n",
       " '41': 1,\n",
       " 'Communications-Media': 2830,\n",
       " 'BusinessServices': 626,\n",
       " 'Sports-Recreation': 406,\n",
       " 'Virgo': 7134,\n",
       " 'Taurus': 8530,\n",
       " 'Arts': 5031,\n",
       " 'Pisces': 7553,\n",
       " '44': 1,\n",
       " '16': 1,\n",
       " 'Internet': 2251,\n",
       " 'Museums-Libraries': 308,\n",
       " 'Accounting': 528,\n",
       " '39': 1,\n",
       " '35': 1,\n",
       " 'Technology': 8484,\n",
       " '36': 1,\n",
       " 'Law': 360,\n",
       " '46': 1,\n",
       " 'Consulting': 905,\n",
       " 'Automotive': 124,\n",
       " '42': 1,\n",
       " 'Religion': 1081,\n",
       " '13': 1,\n",
       " 'Fashion': 1898,\n",
       " '38': 1,\n",
       " '43': 1,\n",
       " 'Publishing': 1079,\n",
       " '40': 1,\n",
       " 'Marketing': 726,\n",
       " 'LawEnforcement-Security': 368,\n",
       " 'HumanResources': 209,\n",
       " 'Telecommunications': 165,\n",
       " 'Military': 798,\n",
       " 'Government': 2055,\n",
       " 'Transportation': 745,\n",
       " 'Architecture': 83,\n",
       " 'Advertising': 766,\n",
       " '47': 1,\n",
       " 'Agriculture': 168,\n",
       " 'Biotech': 324,\n",
       " 'RealEstate': 149,\n",
       " 'Manufacturing': 542,\n",
       " '48': 1,\n",
       " 'Construction': 250,\n",
       " 'Chemicals': 305,\n",
       " 'Maritime': 59,\n",
       " 'Tourism': 253,\n",
       " 'Environment': 6}"
      ]
     },
     "execution_count": 47,
     "metadata": {},
     "output_type": "execute_result"
    }
   ],
   "source": [
    "label_counts=dict()\n",
    "\n",
    "for labels in blog_df_1.labels.values:\n",
    "    for label in labels:\n",
    "        if label in label_counts:\n",
    "            label_counts[str(label)]+=1\n",
    "        else:\n",
    "            label_counts[str(label)]=1\n",
    "\n",
    "label_counts"
   ]
  },
  {
   "cell_type": "markdown",
   "metadata": {
    "id": "scw-oulZX3in"
   },
   "source": [
    "### Transforming the labels"
   ]
  },
  {
   "cell_type": "code",
   "execution_count": 48,
   "metadata": {
    "id": "HD8lsQnDWRO2"
   },
   "outputs": [],
   "source": [
    "from sklearn.preprocessing import MultiLabelBinarizer\n",
    "binarizer=MultiLabelBinarizer(classes=sorted(label_counts.keys()))"
   ]
  },
  {
   "cell_type": "code",
   "execution_count": 49,
   "metadata": {
    "id": "Y4-66kg3YA9G"
   },
   "outputs": [],
   "source": [
    "y_train = binarizer.fit_transform(y_train)"
   ]
  },
  {
   "cell_type": "code",
   "execution_count": 50,
   "metadata": {
    "id": "kRjMYDkTYDlP"
   },
   "outputs": [],
   "source": [
    "y_test = binarizer.transform(y_test)"
   ]
  },
  {
   "cell_type": "code",
   "execution_count": 51,
   "metadata": {
    "colab": {
     "base_uri": "https://localhost:8080/"
    },
    "id": "NeMKWH-LYEA-",
    "outputId": "9e57f013-8a90-4b7c-bdd4-33aa3a6960fa"
   },
   "outputs": [
    {
     "data": {
      "text/plain": [
       "array([[0, 0, 0, ..., 0, 0, 1],\n",
       "       [0, 0, 0, ..., 0, 0, 1],\n",
       "       [0, 0, 0, ..., 0, 1, 1],\n",
       "       ...,\n",
       "       [0, 0, 0, ..., 1, 0, 0],\n",
       "       [0, 0, 0, ..., 0, 0, 1],\n",
       "       [0, 0, 0, ..., 0, 1, 1]])"
      ]
     },
     "execution_count": 51,
     "metadata": {},
     "output_type": "execute_result"
    }
   ],
   "source": [
    "y_test"
   ]
  },
  {
   "cell_type": "code",
   "execution_count": 52,
   "metadata": {
    "colab": {
     "base_uri": "https://localhost:8080/"
    },
    "id": "sih92wT8YEQC",
    "outputId": "b26ff909-e772-4015-ba88-046fd688bb02"
   },
   "outputs": [
    {
     "data": {
      "text/plain": [
       "array([[0, 0, 0, ..., 0, 0, 1],\n",
       "       [0, 0, 0, ..., 1, 1, 0],\n",
       "       [0, 0, 0, ..., 1, 1, 0],\n",
       "       ...,\n",
       "       [0, 0, 0, ..., 1, 0, 0],\n",
       "       [0, 0, 0, ..., 0, 0, 1],\n",
       "       [0, 0, 0, ..., 0, 0, 1]])"
      ]
     },
     "execution_count": 52,
     "metadata": {},
     "output_type": "execute_result"
    }
   ],
   "source": [
    "y_train"
   ]
  },
  {
   "cell_type": "markdown",
   "metadata": {
    "id": "zmp0rRoWsSYA"
   },
   "source": [
    "### Text Classification\n",
    "  Fit the Classifier, and make prediction and evaluate the performance"
   ]
  },
  {
   "cell_type": "code",
   "execution_count": 53,
   "metadata": {
    "id": "Wwr9eGzVYEaA"
   },
   "outputs": [],
   "source": [
    "from sklearn.multiclass import OneVsRestClassifier\n",
    "from sklearn.linear_model import LogisticRegression"
   ]
  },
  {
   "cell_type": "code",
   "execution_count": 54,
   "metadata": {
    "id": "i6i1F90BYEl8"
   },
   "outputs": [
    {
     "data": {
      "text/plain": [
       "OneVsRestClassifier(estimator=LogisticRegression())"
      ]
     },
     "execution_count": 54,
     "metadata": {},
     "output_type": "execute_result"
    }
   ],
   "source": [
    "model=LogisticRegression(solver='lbfgs', max_iter=100)\n",
    "model=OneVsRestClassifier(model)\n",
    "model.fit(X_train_ct,y_train)"
   ]
  },
  {
   "cell_type": "code",
   "execution_count": 55,
   "metadata": {
    "id": "W2G71BQAYEvX"
   },
   "outputs": [],
   "source": [
    "Ypred=model.predict(X_test_ct)"
   ]
  },
  {
   "cell_type": "code",
   "execution_count": 56,
   "metadata": {
    "colab": {
     "base_uri": "https://localhost:8080/"
    },
    "id": "hOzux2AJuLia",
    "outputId": "04587ed6-780b-4047-da2b-212e3ac4b6c1"
   },
   "outputs": [
    {
     "data": {
      "text/plain": [
       "array([[0, 0, 0, ..., 0, 0, 0],\n",
       "       [0, 0, 0, ..., 1, 0, 0],\n",
       "       [0, 0, 0, ..., 1, 0, 0],\n",
       "       ...,\n",
       "       [0, 0, 0, ..., 0, 0, 1],\n",
       "       [0, 0, 0, ..., 0, 0, 1],\n",
       "       [0, 0, 0, ..., 0, 0, 1]])"
      ]
     },
     "execution_count": 56,
     "metadata": {},
     "output_type": "execute_result"
    }
   ],
   "source": [
    "Ypred"
   ]
  },
  {
   "cell_type": "code",
   "execution_count": 57,
   "metadata": {
    "colab": {
     "base_uri": "https://localhost:8080/"
    },
    "id": "AjaAcYFDtvy_",
    "outputId": "949d6743-b0d1-4c6b-9bb3-68f526f69e86"
   },
   "outputs": [
    {
     "data": {
      "text/plain": [
       "array([[0, 0, 0, ..., 0, 0, 1],\n",
       "       [0, 0, 0, ..., 0, 0, 1],\n",
       "       [0, 0, 0, ..., 0, 1, 1],\n",
       "       ...,\n",
       "       [0, 0, 0, ..., 1, 0, 0],\n",
       "       [0, 0, 0, ..., 0, 0, 1],\n",
       "       [0, 0, 0, ..., 0, 1, 1]])"
      ]
     },
     "execution_count": 57,
     "metadata": {},
     "output_type": "execute_result"
    }
   ],
   "source": [
    "y_test"
   ]
  },
  {
   "cell_type": "markdown",
   "metadata": {
    "id": "boUVcI0wtW2N"
   },
   "source": [
    "Evaluation of the model"
   ]
  },
  {
   "cell_type": "code",
   "execution_count": null,
   "metadata": {
    "id": "i207FWgVtWBj"
   },
   "outputs": [],
   "source": [
    "from sklearn.metrics import accuracy_score\n",
    "from sklearn.metrics import f1_score\n",
    "from sklearn.metrics import average_precision_score\n",
    "from sklearn.metrics import recall_score\n",
    "\n",
    "def display_metrics_micro(y_test, Ypred):\n",
    "    print('Accuracy score: ', accuracy_score(y_test, Ypred))\n",
    "    print('F1 score: Micro', f1_score(y_test, Ypred, average='micro'))\n",
    "    print('Average precision score: Micro', average_precision_score(y_test, Ypred, average='micro'))\n",
    "    print('Average recall score: Micro', recall_score(y_test, Ypred, average='micro'))\n",
    "    \n",
    "    \n",
    "def display_metrics_macro(y_test, Ypred):\n",
    "    print('Accuracy score: ', accuracy_score(y_test, Ypred))\n",
    "    print('F1 score: Macro', f1_score(y_test, Ypred, average='macro'))\n",
    "    print('Average recall score: MAcro', recall_score(y_test, Ypred, average='macro'))\n",
    "    \n",
    "def display_metrics_weighted(y_test, Ypred):\n",
    "    print('Accuracy score: ', accuracy_score(y_test, Ypred))\n",
    "    print('F1 score: weighted', f1_score(y_test, Ypred, average='weighted'))\n",
    "    print('Average precision score: weighted', average_precision_score(y_test, Ypred, average='weighted'))\n",
    "    print('Average recall score: weighted', recall_score(y_test, Ypred, average='weighted'))"
   ]
  },
  {
   "cell_type": "code",
   "execution_count": null,
   "metadata": {
    "colab": {
     "base_uri": "https://localhost:8080/"
    },
    "id": "_1AFLtJTYE4M",
    "outputId": "f818fd1f-9c9b-4e02-b3b3-2b05ae421d3a"
   },
   "outputs": [
    {
     "name": "stdout",
     "output_type": "stream",
     "text": [
      "Accuracy score:  0.5167\n",
      "F1 score: Micro 0.0\n",
      "Average precision score: Micro nan\n",
      "Average recall score: Micro 0.0\n"
     ]
    }
   ],
   "source": [
    "display_metrics_micro(y_test,Ypred)"
   ]
  },
  {
   "cell_type": "code",
   "execution_count": null,
   "metadata": {
    "colab": {
     "base_uri": "https://localhost:8080/"
    },
    "id": "b9ACI1DcYFA3",
    "outputId": "bbba4f9e-1e29-41bf-ce66-9ec7ad4ea68f"
   },
   "outputs": [
    {
     "name": "stdout",
     "output_type": "stream",
     "text": [
      "Accuracy score:  0.5167\n",
      "F1 score: Macro 0.0\n",
      "Average recall score: MAcro 0.0\n"
     ]
    }
   ],
   "source": [
    "display_metrics_macro(y_test,Ypred)"
   ]
  },
  {
   "cell_type": "code",
   "execution_count": null,
   "metadata": {
    "colab": {
     "base_uri": "https://localhost:8080/"
    },
    "id": "0uQaRxAiYFJX",
    "outputId": "7c8cde3e-1033-42e7-d567-1c80ffb6cff8"
   },
   "outputs": [
    {
     "name": "stdout",
     "output_type": "stream",
     "text": [
      "Accuracy score:  0.5167\n",
      "F1 score: weighted 0\n",
      "Average precision score: weighted 0\n",
      "Average recall score: weighted 0.0\n"
     ]
    }
   ],
   "source": [
    "display_metrics_weighted(y_test, Ypred)"
   ]
  },
  {
   "cell_type": "markdown",
   "metadata": {
    "id": "dRwzNIxN333U"
   },
   "source": [
    "Comparison of true label and predicted label"
   ]
  },
  {
   "cell_type": "code",
   "execution_count": null,
   "metadata": {
    "id": "ro5NvltMYFR0"
   },
   "outputs": [],
   "source": [
    "preds = Ypred[:15]\n",
    "actuals = y_test[:15]"
   ]
  },
  {
   "cell_type": "code",
   "execution_count": null,
   "metadata": {
    "colab": {
     "base_uri": "https://localhost:8080/"
    },
    "id": "u_E3EcajYFY5",
    "outputId": "359b977b-913a-4dc7-fc17-096f9ed99ee7"
   },
   "outputs": [
    {
     "data": {
      "text/plain": [
       "[(), (), (), (), (), (), (), (), (), (), (), (), (), (), ()]"
      ]
     },
     "execution_count": 63,
     "metadata": {
      "tags": []
     },
     "output_type": "execute_result"
    }
   ],
   "source": [
    "five_actual = binarizer.inverse_transform(actuals)\n",
    "five_actual"
   ]
  },
  {
   "cell_type": "code",
   "execution_count": null,
   "metadata": {
    "colab": {
     "base_uri": "https://localhost:8080/"
    },
    "id": "PH5tPdwOYFeG",
    "outputId": "0e0678c5-097c-4c37-d2c2-83dc164c5098"
   },
   "outputs": [
    {
     "data": {
      "text/plain": [
       "[(),\n",
       " ('Student', 'female'),\n",
       " (),\n",
       " ('male',),\n",
       " ('female',),\n",
       " ('Pisces', 'Transportation', 'male'),\n",
       " ('female',),\n",
       " (),\n",
       " (),\n",
       " (),\n",
       " ('female',),\n",
       " ('Consulting', 'Technology', 'female'),\n",
       " ('female',),\n",
       " ('male',),\n",
       " ('Technology', 'male')]"
      ]
     },
     "execution_count": 64,
     "metadata": {
      "tags": []
     },
     "output_type": "execute_result"
    }
   ],
   "source": [
    "five_pred = binarizer.inverse_transform(preds)\n",
    "five_pred"
   ]
  },
  {
   "cell_type": "code",
   "execution_count": null,
   "metadata": {
    "colab": {
     "base_uri": "https://localhost:8080/"
    },
    "id": "5gDSYBxUYFif",
    "outputId": "76f04227-4ddf-4fe2-e8f4-92ae28a38826"
   },
   "outputs": [
    {
     "name": "stdout",
     "output_type": "stream",
     "text": [
      "('Technology', 'male')\n",
      "()\n"
     ]
    }
   ],
   "source": [
    "print(binarizer.inverse_transform(Ypred)[877])\n",
    "print(binarizer.inverse_transform(y_test)[877])"
   ]
  },
  {
   "cell_type": "code",
   "execution_count": null,
   "metadata": {
    "colab": {
     "base_uri": "https://localhost:8080/"
    },
    "id": "fDCAvDHtYFnF",
    "outputId": "3cb9f5ce-103a-43c0-8b03-c03713abc915"
   },
   "outputs": [
    {
     "name": "stdout",
     "output_type": "stream",
     "text": [
      "('Technology', 'male')\n",
      "()\n"
     ]
    }
   ],
   "source": [
    "print(binarizer.inverse_transform(Ypred)[442])\n",
    "print(binarizer.inverse_transform(y_test)[442])"
   ]
  },
  {
   "cell_type": "code",
   "execution_count": null,
   "metadata": {
    "colab": {
     "base_uri": "https://localhost:8080/"
    },
    "id": "5cVYHErFYFrg",
    "outputId": "9e67efec-e38d-42e1-8cb1-166f937d4401"
   },
   "outputs": [
    {
     "name": "stdout",
     "output_type": "stream",
     "text": [
      "('female',)\n",
      "()\n"
     ]
    }
   ],
   "source": [
    "print(binarizer.inverse_transform(Ypred)[500])\n",
    "print(binarizer.inverse_transform(y_test)[500])"
   ]
  },
  {
   "cell_type": "code",
   "execution_count": null,
   "metadata": {
    "colab": {
     "base_uri": "https://localhost:8080/"
    },
    "id": "fugzJegrYFya",
    "outputId": "24ed0457-0a76-496a-861e-4456439ff0e7"
   },
   "outputs": [
    {
     "name": "stdout",
     "output_type": "stream",
     "text": [
      "('indUnk',)\n",
      "()\n"
     ]
    }
   ],
   "source": [
    "print(binarizer.inverse_transform(Ypred)[499])\n",
    "print(binarizer.inverse_transform(y_test)[499])"
   ]
  },
  {
   "cell_type": "code",
   "execution_count": null,
   "metadata": {
    "colab": {
     "base_uri": "https://localhost:8080/"
    },
    "id": "fnyEN-id4wQj",
    "outputId": "f296a588-9896-4dfe-b47f-9262839a9630"
   },
   "outputs": [
    {
     "name": "stdout",
     "output_type": "stream",
     "text": [
      "[9080, 10978, 16888, 7018, 15446]\n",
      "()\n",
      "()\n",
      "('male',)\n",
      "()\n",
      "('male',)\n",
      "()\n",
      "('male',)\n",
      "()\n",
      "('male',)\n",
      "()\n"
     ]
    }
   ],
   "source": [
    "import random\n",
    "j=[]\n",
    "for i in range(5):\n",
    "    j.append(random.randint(300,len(Ypred)))\n",
    "   \n",
    "print(j)\n",
    "\n",
    "for k in j:    \n",
    "    print(binarizer.inverse_transform(Ypred)[k])\n",
    "    print(binarizer.inverse_transform(y_test)[k])"
   ]
  },
  {
   "cell_type": "code",
   "execution_count": null,
   "metadata": {
    "colab": {
     "base_uri": "https://localhost:8080/"
    },
    "id": "qJ9kNAOT40Hm",
    "outputId": "261a0d54-3c6c-428f-aaa2-3bff1cbb470b"
   },
   "outputs": [
    {
     "name": "stdout",
     "output_type": "stream",
     "text": [
      "Text:\t  (0, 466872)\t1\n",
      "  (0, 584973)\t1\n",
      "  (0, 584975)\t1\n",
      "  (0, 1781828)\t1\n",
      "  (0, 2442107)\t1\n",
      "  (0, 2442126)\t1\n",
      "  (0, 3036818)\t1\n",
      "True labels:\t\n",
      "Predicted labels:\t\n",
      "\n",
      "\n",
      "Text:\t  (0, 8711)\t1\n",
      "  (0, 9452)\t1\n",
      "  (0, 21144)\t1\n",
      "  (0, 67661)\t1\n",
      "  (0, 67771)\t1\n",
      "  (0, 74496)\t1\n",
      "  (0, 78471)\t1\n",
      "  (0, 120596)\t2\n",
      "  (0, 121772)\t1\n",
      "  (0, 126920)\t1\n",
      "  (0, 157801)\t2\n",
      "  (0, 157893)\t1\n",
      "  (0, 178920)\t1\n",
      "  (0, 182108)\t1\n",
      "  (0, 182417)\t1\n",
      "  (0, 183363)\t2\n",
      "  (0, 194027)\t1\n",
      "  (0, 202361)\t5\n",
      "  (0, 204077)\t1\n",
      "  (0, 205064)\t1\n",
      "  (0, 239970)\t1\n",
      "  (0, 240321)\t1\n",
      "  (0, 241441)\t1\n",
      "  (0, 241749)\t1\n",
      "  (0, 253541)\t9\n",
      "  :\t:\n",
      "  (0, 4449080)\t1\n",
      "  (0, 4449591)\t1\n",
      "  (0, 4449622)\t1\n",
      "  (0, 4450746)\t3\n",
      "  (0, 4451462)\t1\n",
      "  (0, 4451494)\t1\n",
      "  (0, 4452125)\t1\n",
      "  (0, 4456092)\t2\n",
      "  (0, 4456694)\t1\n",
      "  (0, 4463749)\t2\n",
      "  (0, 4464331)\t2\n",
      "  (0, 4469199)\t1\n",
      "  (0, 4469266)\t1\n",
      "  (0, 4471407)\t1\n",
      "  (0, 4490043)\t1\n",
      "  (0, 4490712)\t1\n",
      "  (0, 4497129)\t1\n",
      "  (0, 4497648)\t1\n",
      "  (0, 4499761)\t2\n",
      "  (0, 4500860)\t1\n",
      "  (0, 4501718)\t1\n",
      "  (0, 4503106)\t1\n",
      "  (0, 4503264)\t1\n",
      "  (0, 4505960)\t1\n",
      "  (0, 4506082)\t1\n",
      "True labels:\t\n",
      "Predicted labels:\tStudent,female\n",
      "\n",
      "\n",
      "Text:\t  (0, 318611)\t1\n",
      "  (0, 357067)\t1\n",
      "  (0, 361134)\t1\n",
      "  (0, 391213)\t1\n",
      "  (0, 391354)\t1\n",
      "  (0, 543978)\t1\n",
      "  (0, 631341)\t1\n",
      "  (0, 633217)\t1\n",
      "  (0, 1132696)\t1\n",
      "  (0, 1541635)\t1\n",
      "  (0, 1543316)\t1\n",
      "  (0, 1558561)\t1\n",
      "  (0, 1560873)\t1\n",
      "  (0, 1664615)\t1\n",
      "  (0, 1665313)\t1\n",
      "  (0, 1701663)\t1\n",
      "  (0, 1702708)\t1\n",
      "  (0, 1816720)\t1\n",
      "  (0, 1816790)\t1\n",
      "  (0, 1891794)\t1\n",
      "  (0, 2075743)\t1\n",
      "  (0, 2375943)\t1\n",
      "  (0, 2376206)\t1\n",
      "  (0, 2396636)\t1\n",
      "  (0, 2534045)\t1\n",
      "  (0, 2534203)\t1\n",
      "  (0, 2534660)\t1\n",
      "  (0, 2761399)\t1\n",
      "  (0, 2976644)\t1\n",
      "  (0, 2977030)\t1\n",
      "  (0, 3195034)\t1\n",
      "  (0, 3196898)\t1\n",
      "  (0, 3694564)\t1\n",
      "  (0, 4030494)\t1\n",
      "  (0, 4030808)\t1\n",
      "  (0, 4082650)\t1\n",
      "  (0, 4084022)\t1\n",
      "  (0, 4114444)\t1\n",
      "  (0, 4114495)\t1\n",
      "  (0, 4250086)\t1\n",
      "  (0, 4250165)\t1\n",
      "  (0, 4254662)\t1\n",
      "  (0, 4288216)\t1\n",
      "  (0, 4288406)\t1\n",
      "  (0, 4363557)\t1\n",
      "  (0, 4364777)\t1\n",
      "  (0, 4375706)\t1\n",
      "True labels:\t\n",
      "Predicted labels:\t\n",
      "\n",
      "\n",
      "Text:\t  (0, 262397)\t1\n",
      "  (0, 427386)\t1\n",
      "  (0, 427584)\t1\n",
      "  (0, 489553)\t2\n",
      "  (0, 491466)\t1\n",
      "  (0, 778570)\t1\n",
      "  (0, 827762)\t1\n",
      "  (0, 827804)\t1\n",
      "  (0, 1089255)\t1\n",
      "  (0, 1290818)\t1\n",
      "  (0, 1291092)\t1\n",
      "  (0, 1439970)\t1\n",
      "  (0, 1441106)\t1\n",
      "  (0, 1491504)\t1\n",
      "  (0, 1695395)\t1\n",
      "  (0, 1695479)\t1\n",
      "  (0, 1863676)\t1\n",
      "  (0, 1871386)\t1\n",
      "  (0, 1872291)\t1\n",
      "  (0, 1934343)\t2\n",
      "  (0, 1935835)\t1\n",
      "  (0, 2458180)\t1\n",
      "  (0, 3065415)\t1\n",
      "  (0, 3067115)\t1\n",
      "  (0, 3077715)\t1\n",
      "  (0, 3165147)\t1\n",
      "  (0, 3165775)\t1\n",
      "  (0, 3451522)\t1\n",
      "  (0, 3451708)\t1\n",
      "  (0, 3627746)\t1\n",
      "  (0, 3990489)\t1\n",
      "  (0, 3994138)\t1\n",
      "  (0, 4044829)\t1\n",
      "  (0, 4210949)\t1\n",
      "  (0, 4323796)\t1\n",
      "  (0, 4324422)\t1\n",
      "  (0, 4329554)\t1\n",
      "  (0, 4329754)\t1\n",
      "True labels:\t\n",
      "Predicted labels:\tmale\n",
      "\n",
      "\n",
      "Text:\t  (0, 93889)\t1\n",
      "  (0, 94950)\t1\n",
      "  (0, 183363)\t1\n",
      "  (0, 183680)\t1\n",
      "  (0, 202361)\t1\n",
      "  (0, 202771)\t1\n",
      "  (0, 207573)\t1\n",
      "  (0, 207908)\t1\n",
      "  (0, 303977)\t1\n",
      "  (0, 304053)\t1\n",
      "  (0, 343594)\t1\n",
      "  (0, 345896)\t1\n",
      "  (0, 409433)\t2\n",
      "  (0, 409468)\t1\n",
      "  (0, 409824)\t1\n",
      "  (0, 470504)\t1\n",
      "  (0, 471990)\t1\n",
      "  (0, 548905)\t1\n",
      "  (0, 548926)\t1\n",
      "  (0, 554334)\t1\n",
      "  (0, 554345)\t1\n",
      "  (0, 631341)\t1\n",
      "  (0, 631811)\t1\n",
      "  (0, 688828)\t1\n",
      "  (0, 689313)\t1\n",
      "  :\t:\n",
      "  (0, 3598381)\t1\n",
      "  (0, 3598431)\t1\n",
      "  (0, 3600785)\t2\n",
      "  (0, 3600821)\t1\n",
      "  (0, 3642884)\t2\n",
      "  (0, 3643407)\t1\n",
      "  (0, 3643518)\t1\n",
      "  (0, 3849449)\t1\n",
      "  (0, 3849917)\t1\n",
      "  (0, 3990489)\t1\n",
      "  (0, 3998304)\t1\n",
      "  (0, 4264200)\t3\n",
      "  (0, 4264271)\t1\n",
      "  (0, 4264341)\t1\n",
      "  (0, 4264373)\t1\n",
      "  (0, 4269180)\t1\n",
      "  (0, 4304472)\t1\n",
      "  (0, 4305157)\t1\n",
      "  (0, 4382004)\t1\n",
      "  (0, 4400506)\t1\n",
      "  (0, 4401318)\t1\n",
      "  (0, 4404656)\t1\n",
      "  (0, 4405824)\t1\n",
      "  (0, 4420768)\t1\n",
      "  (0, 4422224)\t1\n",
      "True labels:\t\n",
      "Predicted labels:\tfemale\n",
      "\n",
      "\n"
     ]
    }
   ],
   "source": [
    "Ypred_inversed = binarizer.inverse_transform(Ypred)\n",
    "y_test_inversed = binarizer.inverse_transform(y_test)\n",
    "for i in range(5):\n",
    "    print('Text:\\t{}\\nTrue labels:\\t{}\\nPredicted labels:\\t{}\\n\\n'.format(\n",
    "        X_test_ct[i],\n",
    "        ','.join(y_test_inversed[i]),\n",
    "        ','.join(Ypred_inversed[i])\n",
    "    ))"
   ]
  },
  {
   "cell_type": "markdown",
   "metadata": {
    "id": "kf9W1F6d49lH"
   },
   "source": [
    "Use Linear classifier as a wrap to OneVsRestClassifier"
   ]
  },
  {
   "cell_type": "code",
   "execution_count": null,
   "metadata": {
    "id": "WHOU9Vuh49IA"
   },
   "outputs": [],
   "source": [
    "from sklearn.linear_model import LogisticRegression\n",
    "from sklearn.discriminant_analysis import LinearDiscriminantAnalysis\n",
    "from sklearn.svm import LinearSVC\n",
    "from sklearn.naive_bayes import MultinomialNB\n",
    "\n",
    "def build_model_train(X_train, y_train, X_valid=None, y_valid=None, C=1.0, model='lr'):\n",
    "    if model=='lr':\n",
    "        model = LogisticRegression(C=C, penalty='l1', dual=False, solver='liblinear')\n",
    "        model = OneVsRestClassifier(model)\n",
    "        model.fit(X_train, y_train)\n",
    "    \n",
    "    elif model=='svm':\n",
    "        model = LinearSVC(C=C, penalty='l1', dual=False, loss='squared_hinge')\n",
    "        model = OneVsRestClassifier(model)\n",
    "        model.fit(X_train, y_train)\n",
    "    \n",
    "    elif model=='nbayes':\n",
    "        model = MultinomialNB(alpha=1.0)\n",
    "        model = OneVsRestClassifier(model)\n",
    "        model.fit(X_train, y_train)\n",
    "        \n",
    "    elif model=='lda':\n",
    "        model = LinearDiscriminantAnalysis(solver='svd')\n",
    "        model = OneVsRestClassifier(model)\n",
    "        model.fit(X_train, y_train)\n",
    "\n",
    "    return model"
   ]
  },
  {
   "cell_type": "code",
   "execution_count": null,
   "metadata": {
    "colab": {
     "base_uri": "https://localhost:8080/"
    },
    "id": "u1RVYszw49C5",
    "outputId": "e8a34189-257a-414c-b545-63ec6a480ecd"
   },
   "outputs": [
    {
     "name": "stdout",
     "output_type": "stream",
     "text": [
      "\n",
      "\n",
      "**displaying  metrics for the mode OneVsRestClassifier(estimator=LogisticRegression(C=1.0, class_weight=None,\n",
      "                                                 dual=False, fit_intercept=True,\n",
      "                                                 intercept_scaling=1,\n",
      "                                                 l1_ratio=None, max_iter=100,\n",
      "                                                 multi_class='auto',\n",
      "                                                 n_jobs=None, penalty='l1',\n",
      "                                                 random_state=None,\n",
      "                                                 solver='liblinear', tol=0.0001,\n",
      "                                                 verbose=0, warm_start=False),\n",
      "                    n_jobs=None)\n",
      "\n",
      "Accuracy score:  0.1539\n",
      "F1 score: Micro 0.0\n",
      "Average precision score: Micro nan\n",
      "Average recall score: Micro 0.0\n",
      "\n",
      "\n",
      "\n",
      "\n",
      "Accuracy score:  0.1539\n",
      "F1 score: Macro 0.0\n",
      "Average recall score: MAcro 0.0\n",
      "\n",
      "\n",
      "\n",
      "\n",
      "Accuracy score:  0.1539\n",
      "F1 score: weighted 0\n",
      "Average precision score: weighted 0\n",
      "Average recall score: weighted 0.0\n",
      "\n",
      "\n",
      "\n",
      "\n",
      "\n",
      "\n",
      "**displaying  metrics for the mode OneVsRestClassifier(estimator=LinearSVC(C=1.0, class_weight=None, dual=False,\n",
      "                                        fit_intercept=True, intercept_scaling=1,\n",
      "                                        loss='squared_hinge', max_iter=1000,\n",
      "                                        multi_class='ovr', penalty='l1',\n",
      "                                        random_state=None, tol=0.0001,\n",
      "                                        verbose=0),\n",
      "                    n_jobs=None)\n",
      "\n",
      "Accuracy score:  0.23375\n",
      "F1 score: Micro 0.0\n",
      "Average precision score: Micro nan\n",
      "Average recall score: Micro 0.0\n",
      "\n",
      "\n",
      "\n",
      "\n",
      "Accuracy score:  0.23375\n",
      "F1 score: Macro 0.0\n",
      "Average recall score: MAcro 0.0\n",
      "\n",
      "\n",
      "\n",
      "\n",
      "Accuracy score:  0.23375\n",
      "F1 score: weighted 0\n",
      "Average precision score: weighted 0\n",
      "Average recall score: weighted 0.0\n",
      "\n",
      "\n",
      "\n",
      "\n"
     ]
    }
   ],
   "source": [
    "models = ['lr','svm','nbayes']\n",
    "for model in models:\n",
    "    model = build_model_train(X_train_ct,y_train,model=model)\n",
    "    model.fit(X_train_ct,y_train)\n",
    "    Ypred=model.predict(X_test_ct)\n",
    "    print(\"\\n\")\n",
    "    print(f\"**displaying  metrics for the mode {model}\\n\")\n",
    "    display_metrics_micro(y_test,Ypred)\n",
    "    print(\"\\n\")\n",
    "    print(\"\\n\")\n",
    "    display_metrics_macro(y_test,Ypred)\n",
    "    print(\"\\n\")\n",
    "    print(\"\\n\")\n",
    "    display_metrics_weighted(y_test,Ypred)\n",
    "    print(\"\\n\")\n",
    "    print(\"\\n\")"
   ]
  },
  {
   "cell_type": "code",
   "execution_count": null,
   "metadata": {
    "id": "H1mkUoMb48-s"
   },
   "outputs": [],
   "source": []
  },
  {
   "cell_type": "code",
   "execution_count": null,
   "metadata": {
    "id": "5BkvqIg-487p"
   },
   "outputs": [],
   "source": []
  }
 ],
 "metadata": {
  "accelerator": "TPU",
  "colab": {
   "name": "Statistical NLP Project_Part 1 .ipynb",
   "provenance": []
  },
  "kernelspec": {
   "display_name": "Python 3",
   "language": "python",
   "name": "python3"
  },
  "language_info": {
   "codemirror_mode": {
    "name": "ipython",
    "version": 3
   },
   "file_extension": ".py",
   "mimetype": "text/x-python",
   "name": "python",
   "nbconvert_exporter": "python",
   "pygments_lexer": "ipython3",
   "version": "3.8.3"
  }
 },
 "nbformat": 4,
 "nbformat_minor": 1
}
